{
 "cells": [
  {
   "cell_type": "markdown",
   "metadata": {},
   "source": [
    "**Tipos de estructuras**"
   ]
  },
  {
   "cell_type": "code",
   "execution_count": null,
   "metadata": {},
   "outputs": [],
   "source": [
    "#variable numericas\n",
    "2+2\n",
    "\n",
    "x = 2\n",
    "y = 1\n",
    "z = 4\n",
    "\n",
    "fx = x*x + y - z\n",
    "\n",
    "X*x + y - z"
   ]
  },
  {
   "cell_type": "code",
   "execution_count": null,
   "metadata": {},
   "outputs": [],
   "source": [
    "#Variables cadena\n",
    "\n",
    "a = \"perro\"\n",
    "b = \"gato\"\n",
    "c = \"leones\"\n",
    "\n",
    "print(\"Lista de animales\",a)"
   ]
  },
  {
   "cell_type": "code",
   "execution_count": null,
   "metadata": {},
   "outputs": [],
   "source": [
    "#booleanos\n",
    "r = True\n",
    "\n",
    "True and False\n",
    "True or True"
   ]
  },
  {
   "cell_type": "markdown",
   "metadata": {},
   "source": [
    "**Trabajando con matrices**"
   ]
  },
  {
   "cell_type": "code",
   "execution_count": null,
   "metadata": {},
   "outputs": [],
   "source": [
    "#Operaciones básicas\n",
    "x = 20\n",
    "y = 6\n",
    "\n",
    "x+y\n",
    "x-y\n",
    "x*y\n",
    "x/y\n",
    "\n",
    "x**6\n",
    "\n",
    "#Vectores\n",
    "vec1 = [1,2,3,4,5]\n",
    "vec2 = [3,6,9,12,15]\n",
    "\n",
    "vec1+vec2\n",
    "vec1*vec2"
   ]
  },
  {
   "cell_type": "code",
   "execution_count": null,
   "metadata": {},
   "outputs": [],
   "source": [
    "##Modulo Numpy (algebra e matrices)\n",
    "import numpy as np"
   ]
  },
  {
   "cell_type": "code",
   "execution_count": null,
   "metadata": {},
   "outputs": [],
   "source": [
    "a = np.array([2,3,4])\n",
    "b = np.array([10,20,30])\n",
    "\n",
    "print(\"Número de elementos de a = \",a.size)"
   ]
  },
  {
   "cell_type": "code",
   "execution_count": null,
   "metadata": {},
   "outputs": [],
   "source": [
    "a+5\n",
    "b*b"
   ]
  },
  {
   "cell_type": "code",
   "execution_count": null,
   "metadata": {},
   "outputs": [],
   "source": [
    "b/a"
   ]
  },
  {
   "cell_type": "code",
   "execution_count": null,
   "metadata": {},
   "outputs": [],
   "source": [
    "A = np.array([[2,3,4],\n",
    "              [20,30,40]])\n",
    "\n",
    "B = np.array([[3,3],\n",
    "             [13,16],\n",
    "             [4,4]])\n"
   ]
  },
  {
   "cell_type": "code",
   "execution_count": null,
   "metadata": {},
   "outputs": [],
   "source": [
    "#a.size #Para ver la cantidad de elementos\n",
    "#A.size #Para ver la cantidad de elementos\n",
    "A.shape #Para ver la dimensión\n",
    "#B.shape"
   ]
  },
  {
   "cell_type": "code",
   "execution_count": null,
   "metadata": {},
   "outputs": [],
   "source": [
    "A@B #Multiplicación de matrices"
   ]
  },
  {
   "cell_type": "code",
   "execution_count": null,
   "metadata": {},
   "outputs": [],
   "source": [
    "#Operaciones con matrices\n",
    "B[1]\n",
    "#A[0]*20\n",
    "#A[0] = A[0]*20"
   ]
  },
  {
   "cell_type": "code",
   "execution_count": null,
   "metadata": {},
   "outputs": [],
   "source": [
    "#Calculanddo la norma de un vector\n",
    "x = np.array([2,4,6,8])\n",
    "y = np.arange(1,5)"
   ]
  },
  {
   "cell_type": "code",
   "execution_count": null,
   "metadata": {},
   "outputs": [],
   "source": [
    "sum(x*y) #Producto escalar\n",
    "np.sqrt(x@x)#Calculamos la norma de un vector"
   ]
  },
  {
   "cell_type": "markdown",
   "metadata": {},
   "source": [
    "**CICLOS**"
   ]
  },
  {
   "cell_type": "code",
   "execution_count": null,
   "metadata": {},
   "outputs": [],
   "source": [
    "#ciclos\n",
    "suma = 0\n",
    "for i in 2,4,6,8:\n",
    "    suma = suma+i\n",
    "    print(suma)\n",
    "\n",
    "for i in range(2,8):\n",
    "    print(i)"
   ]
  },
  {
   "cell_type": "markdown",
   "metadata": {},
   "source": [
    "**FUNCIONES**"
   ]
  },
  {
   "cell_type": "code",
   "execution_count": null,
   "metadata": {},
   "outputs": [],
   "source": [
    "#Funcion muy util              \n",
    "range(1,10)\n",
    "\n",
    "\n",
    "suma = 0\n",
    "for i in 2,4,6,8:\n",
    "    suma = suma + i\n",
    "    print(suma)\n",
    "\n",
    "\n",
    "#Funciones\n",
    "def fun_sum(n):\n",
    "    s = n*(n+1)/2\n",
    "    print(s)\n",
    "\n",
    "def trian(b,h):\n",
    "    area = b*h/2\n",
    "    print(area)\n",
    "\n",
    "trian(4,6)"
   ]
  },
  {
   "cell_type": "code",
   "execution_count": null,
   "metadata": {},
   "outputs": [],
   "source": [
    "\n",
    "#Practicando con clases y objetos:\n",
    "#===#===#===#===#===#===#===#===#===#===\n",
    "#===#===#===#===#===#===#===#===#===#===\n",
    "class lapiz:\n",
    "    def __init__(self, col,borr,tiene):\n",
    "        self.color = col\n",
    "        self.tiene_borrador = borr\n",
    "        self.Tiene_grafito = tiene       \n",
    "    \n",
    "    def dibujar(self):\n",
    "        print(\"El lapiz esta dibujando\")\n",
    "    def borrar(self):\n",
    "        if self.valido_borrar():\n",
    "            print(\"El lapiz esta borrando\")\n",
    "        else:\n",
    "            print(\"El lapiz no tiene borrador\")\n",
    "        \n",
    "    def valido_borrar(self):\n",
    "        return self.tiene_borrador"
   ]
  },
  {
   "cell_type": "code",
   "execution_count": null,
   "metadata": {},
   "outputs": [],
   "source": [
    "#Llamando objetos\n",
    "lapiz_cesar = lapiz()\n",
    "\n",
    "#Llamando caracteristicas\n",
    "lapiz_cesar.color\n",
    "lapiz_cesar.tiene_borrador\n",
    "lapiz_cesar.Tiene_grafito\n",
    "\n",
    "lapiz_cesar.dibujar()\n",
    "lapiz_cesar.borrar()\n",
    "\n",
    "lapiz_cesar.tiene_borrador = True\n",
    "\n",
    "lapiz_cesar.borrar()\n",
    "\n",
    "\n",
    "lapiz_cesar = lapiz('azul',True,True)\n",
    "\n",
    "lapiz_cesar.color\n",
    "lapiz_cesar.borrar()"
   ]
  },
  {
   "cell_type": "markdown",
   "metadata": {},
   "source": [
    "**DATA FRAMES**"
   ]
  },
  {
   "cell_type": "code",
   "execution_count": null,
   "metadata": {},
   "outputs": [],
   "source": [
    "#Trabajando con bases de datos\n",
    "import pandas as pd"
   ]
  },
  {
   "cell_type": "code",
   "execution_count": null,
   "metadata": {},
   "outputs": [],
   "source": [
    "datos = pd.read_csv('data/Base Credit Card.csv')"
   ]
  },
  {
   "cell_type": "code",
   "execution_count": null,
   "metadata": {},
   "outputs": [],
   "source": [
    "datos.dtypes\n",
    "\n",
    "datos[\"LINEA_CREDITO\"].describe()\n",
    "datos[\"ECIVIL\"].describe()\n",
    "\n",
    "\n",
    "datos.groupby(\"ECIVIL\").size()\n",
    "datos.groupby(\"ZONA\").size()\n",
    "\n",
    "pd.crosstab(datos[\"ECIVIL\"],datos[\"ZONA\"])\n",
    "pd.crosstab(datos[\"ECIVIL\"],datos[\"SEXO\"]) #Cruce simple de variables"
   ]
  },
  {
   "cell_type": "markdown",
   "metadata": {},
   "source": [
    "**Viendo más ..**"
   ]
  },
  {
   "cell_type": "code",
   "execution_count": null,
   "metadata": {},
   "outputs": [],
   "source": [
    "#TECNICAS DE PRE PROCESAMIENTO CON PYTHON\n",
    "#==#==#==#==#==#==#==#==#==#==\n",
    "#==#==#==#==#==#==#==#==#==#==\n",
    "#Identificar missing values\n",
    "#Normalización de datos "
   ]
  },
  {
   "cell_type": "code",
   "execution_count": null,
   "metadata": {},
   "outputs": [],
   "source": [
    "#Identificar missing values\n",
    "#==#==#==#==#==#==#==#==#==#==\n",
    "import pandas as pd #Importamos el paquete pandas con alias pd\n",
    "import numpy as np #Importamos el paquete numpy con alias np"
   ]
  },
  {
   "cell_type": "code",
   "execution_count": null,
   "metadata": {},
   "outputs": [],
   "source": [
    "datos[\"EDAD\"].describe()\n",
    "datos[\"EDAD\"].head(10)"
   ]
  },
  {
   "cell_type": "code",
   "execution_count": null,
   "metadata": {},
   "outputs": [],
   "source": [
    "#Vemos presencia de valores perdidos\n",
    "datos.loc[(pd.isna(datos[\"EDAD_im\"]))].shape[0]"
   ]
  },
  {
   "cell_type": "code",
   "execution_count": null,
   "metadata": {},
   "outputs": [],
   "source": [
    "datos[\"EDAD2\"] = datos[\"EDAD\"]\n",
    "media = datos[\"EDAD\"].mean() #Calculamos la media\n",
    "datos[\"EDAD2\"] = datos[\"EDAD2\"].replace(np.nan,media) #Reemplazamos los NAs por la media"
   ]
  },
  {
   "cell_type": "code",
   "execution_count": null,
   "metadata": {},
   "outputs": [],
   "source": [
    "#Normalización de datos \n",
    "#==#==#==#==#==#==#==#==#==#==\n",
    "\n",
    "datos[\"LINEA_CREDITO\"].mean() #Obtenemos el promedio de la variable Linea de crédito\n",
    "datos[\"LINEA_CREDITO\"].min() #Obtenemos el mínimo de la variable Linea de crédito\n",
    "datos[\"LINEA_CREDITO\"].max() #Obtenemos el máximo de la variable Linea de crédito\n",
    "datos[\"LINEA_CREDITO\"].std() #Obtenemos la desviación estandar de la variable Linea de crédito\n",
    "\n",
    "\n",
    "datos[\"LINEA_CREDITO_N\"] = (datos[\"LINEA_CREDITO\"]-datos[\"LINEA_CREDITO\"].mean())/datos[\"LINEA_CREDITO\"].std()\n",
    "\n",
    "datos.dtypes\n",
    "\n",
    "datos2.info"
   ]
  },
  {
   "cell_type": "code",
   "execution_count": null,
   "metadata": {},
   "outputs": [],
   "source": [
    "# Función de Identificar Outliers:\n",
    "#================================\n",
    "def calcularOutliars(x):\n",
    "  Q01 = x.quantile(0.25)\n",
    "  Q03 = x.quantile(0.75)\n",
    "  IQR = Q03 - Q01\n",
    "  a = (x < (Q01 - 1.5 * IQR)) | (x > (Q03 + 1.5 * IQR))\n",
    "  numOutliars = a[a == True].shape[0]\n",
    "  return numOutliars"
   ]
  },
  {
   "cell_type": "code",
   "execution_count": null,
   "metadata": {},
   "outputs": [],
   "source": [
    "#Calculamos el % de outliars en las variables numéricas\n",
    "calcularOutliars(datos['EDAD2'])"
   ]
  },
  {
   "cell_type": "code",
   "execution_count": null,
   "metadata": {},
   "outputs": [],
   "source": [
    "#Imputamos los valores outliers en nuevas variables\n",
    "#==================================================\n",
    "#creamos la función de reemplazo de outliers\n",
    "def fun_rep(num): \n",
    "    if num > LS: \n",
    "        return LS\n",
    "    elif num < LI and num > 0: \n",
    "        return LI\n",
    "    else: \n",
    "        return num"
   ]
  },
  {
   "cell_type": "code",
   "execution_count": null,
   "metadata": {},
   "outputs": [],
   "source": [
    "#Variable edad\n",
    "Q01 = datos[\"EDAD2\"].quantile(0.25)\n",
    "Q03 = datos[\"EDAD2\"].quantile(0.75)\n",
    "IQR = Q03 - Q01\n",
    "LS = Q03 + 1.5 * IQR\n",
    "LI = Q01 - 1.5 * IQR\n",
    "\n",
    "datos[\"EDAD2_im\"] = datos[\"EDAD2\"].apply(fun_rep)"
   ]
  },
  {
   "cell_type": "code",
   "execution_count": null,
   "metadata": {},
   "outputs": [],
   "source": []
  },
  {
   "cell_type": "code",
   "execution_count": null,
   "metadata": {},
   "outputs": [],
   "source": []
  },
  {
   "cell_type": "markdown",
   "metadata": {},
   "source": [
    "**ANALISIS GRÁFICO**"
   ]
  },
  {
   "cell_type": "code",
   "execution_count": null,
   "metadata": {},
   "outputs": [],
   "source": [
    "\n",
    "#ANALISIS GRAFICO\n",
    "#==#==#==#==#==#==#==#==#==#==\n",
    "#==#==#==#==#==#==#==#==#==#==\n",
    "import seaborn as sns #Cargamos el paquete seaborn con alias sns\n",
    "import matplotlib.pyplot as plt #importamos la libreria pyplot con alias plt\n",
    "import numpy as np\n",
    "import math as mt\n",
    "import pylab as pl\n",
    "\n",
    "#GRaficando una función\n",
    "x = np.array([1,2,3,4,5,6,7,8,9,10,11,12,13,14,15,16,17,18,19,20])\n",
    "fx = x*x"
   ]
  },
  {
   "cell_type": "code",
   "execution_count": null,
   "metadata": {},
   "outputs": [],
   "source": [
    "plt.plot(x,fx)  #Graficamos la función generada"
   ]
  },
  {
   "cell_type": "code",
   "execution_count": null,
   "metadata": {},
   "outputs": [],
   "source": []
  },
  {
   "cell_type": "code",
   "execution_count": null,
   "metadata": {},
   "outputs": [],
   "source": [
    "#####TIPOS DE GRÁFICOS\n",
    "#######################\n",
    "\n",
    "#diagrama de dispersión\n",
    "plt.scatter(datos[\"EDAD\"],datos[\"LINEA_CREDITO\"]) \n",
    "\n",
    "#Histograma de las Edades\n",
    "plt.hist(datos[\"LINEA_CREDITO\"])\n",
    "\n",
    "#Diagrama de caja\n",
    "plt.boxplot(datos[\"EDAD2\"])\n",
    "\n",
    "#Diagrama de caja\n",
    "plt.subplot(2,2,4)\n",
    "plt.boxplot(datos[\"EDAD\"])\n",
    "plt.title(\"Diagrama de caja\")\n",
    "\n",
    "#Correlación grafica a partir de regresión\n",
    "plt.subplot(2,2,3)\n",
    "sns.regplot(x = \"EDAD\",y = \"LINEA_CREDITO\",data = datos) \n",
    "plt.ylim(0,)"
   ]
  },
  {
   "cell_type": "markdown",
   "metadata": {},
   "source": [
    "**CLUSTER K MEANS**\n",
    "*http://www.aprendemachinelearning.com/k-means-en-python-paso-a-paso/*"
   ]
  },
  {
   "cell_type": "code",
   "execution_count": null,
   "metadata": {},
   "outputs": [],
   "source": [
    "from sklearn.cluster import KMeans"
   ]
  },
  {
   "cell_type": "code",
   "execution_count": null,
   "metadata": {},
   "outputs": [],
   "source": [
    "nombres = [\"LINEA_CREDITO\",\"DEUDA_TARJETA\",\"Total_facturacion\"]\n",
    "\n",
    "x_train = np.array(datos[nombres])\n",
    "y_train = np.array(datos[\"Num_compras\"])"
   ]
  },
  {
   "cell_type": "code",
   "execution_count": null,
   "metadata": {},
   "outputs": [],
   "source": [
    "kmeans = KMeans(n_clusters = 5)\n",
    "kmeans.fit(x_train)\n",
    "\n",
    "kmeans.cluster_centers_"
   ]
  },
  {
   "cell_type": "code",
   "execution_count": null,
   "metadata": {},
   "outputs": [],
   "source": [
    "#CLUSTER OPTIMOS\n",
    "nc = range(1,20)\n",
    "nc = np.arange(1,20)\n",
    "\n",
    "kmeans = [KMeans(n_clusters = i) for i in nc]\n",
    "score = [kmeans[i].fit(x_train).score(x_train) for i in range(len(kmeans))]\n",
    "plt.plot(nc,score)"
   ]
  },
  {
   "cell_type": "code",
   "execution_count": null,
   "metadata": {},
   "outputs": [],
   "source": [
    "kmeans = KMeans(n_clusters = 4)\n",
    "kmeans.fit(x_train)\n",
    "kmeans.fit(x_train).score(x_train)\n",
    "\n",
    "kmeans.predict(x_train)"
   ]
  },
  {
   "cell_type": "markdown",
   "metadata": {},
   "source": [
    "**ARBOLES DE DECISION**"
   ]
  },
  {
   "cell_type": "code",
   "execution_count": null,
   "metadata": {},
   "outputs": [],
   "source": [
    "from sklearn import tree\n",
    "from sklearn.metrics import f1_score, precision_score, recall_score, auc"
   ]
  },
  {
   "cell_type": "code",
   "execution_count": null,
   "metadata": {},
   "outputs": [],
   "source": [
    "nomb2 = [\"LINEA_CREDITO\",\"DEUDA_TARJETA\"]\n",
    "\n",
    "x_train = datos[nomb2]\n",
    "y_train = datos[\"SEXO\"]"
   ]
  },
  {
   "cell_type": "code",
   "execution_count": null,
   "metadata": {},
   "outputs": [],
   "source": [
    "tree01 = tree.DecisionTreeClassifier()\n",
    "class01 = tree01.fit(x_train,y_train)\n",
    "\n",
    "pred01 = tree01.predict(x_train)"
   ]
  },
  {
   "cell_type": "code",
   "execution_count": null,
   "metadata": {},
   "outputs": [],
   "source": [
    "prediction_train = tree01.score(x_train, y_train)"
   ]
  },
  {
   "cell_type": "code",
   "execution_count": null,
   "metadata": {},
   "outputs": [],
   "source": [
    "prediction_train"
   ]
  },
  {
   "cell_type": "markdown",
   "metadata": {},
   "source": [
    "**REGRESION LINEAL**"
   ]
  },
  {
   "cell_type": "code",
   "execution_count": null,
   "metadata": {},
   "outputs": [],
   "source": [
    "from sklearn.linear_model import LinearRegression\n",
    "from sklearn.metrics import mean_squared_error, r2_score\n",
    "import seaborn as sns"
   ]
  },
  {
   "cell_type": "code",
   "execution_count": null,
   "metadata": {},
   "outputs": [],
   "source": [
    "datos = pd.read_csv('data/Base ciudades.csv')\n",
    "datos"
   ]
  },
  {
   "cell_type": "code",
   "execution_count": null,
   "metadata": {},
   "outputs": [],
   "source": [
    "import matplotlib.pyplot as plt\n",
    "import seaborn as sns"
   ]
  },
  {
   "cell_type": "code",
   "execution_count": null,
   "metadata": {},
   "outputs": [],
   "source": [
    "datos[[\"Life_expentacy\",\"GDP\",\"HIV\"]].corr()"
   ]
  },
  {
   "cell_type": "code",
   "execution_count": null,
   "metadata": {},
   "outputs": [],
   "source": [
    "#hacemos un analisis gráfico inicial\n",
    "sns.heatmap(datos[[\"Life_expentacy\",\"GDP\",\"HIV\"]].corr(), square=True, annot=True)"
   ]
  },
  {
   "cell_type": "code",
   "execution_count": null,
   "metadata": {},
   "outputs": [],
   "source": [
    "correla = sns.pairplot(datos[[\"Life_expentacy\",\"GDP\",\"HIV\"]], diag_kind=\"hist\")"
   ]
  },
  {
   "cell_type": "code",
   "execution_count": null,
   "metadata": {},
   "outputs": [],
   "source": [
    "#Probando modelos lineales\n",
    "lm = LinearRegression()\n",
    "\n",
    "x = datos[[\"GDP\"]]\n",
    "y = datos[\"Life_expentacy\"]\n",
    "\n",
    "lm.fit(x,y)\n",
    "y_pred = lm.predict(x)\n",
    "\n",
    "r2_score(y, y_pred)"
   ]
  },
  {
   "cell_type": "code",
   "execution_count": null,
   "metadata": {},
   "outputs": [],
   "source": [
    "lm = LinearRegression()\n",
    "\n",
    "x = datos[[\"HIV\"]]\n",
    "y = datos[\"Life_expentacy\"]\n",
    "\n",
    "lm.fit(x,y)\n",
    "y_pred = lm.predict(x)\n",
    "\n",
    "r2_score(y, y_pred)"
   ]
  },
  {
   "cell_type": "code",
   "execution_count": null,
   "metadata": {},
   "outputs": [],
   "source": [
    "lm = LinearRegression()\n",
    "\n",
    "x = datos[[\"GDP\",\"HIV\"]]\n",
    "y = datos[\"Life_expentacy\"]\n",
    "\n",
    "lm.fit(x,y)\n",
    "y_pred = lm.predict(x)\n",
    "\n",
    "r2_score(y, y_pred)"
   ]
  },
  {
   "cell_type": "code",
   "execution_count": null,
   "metadata": {},
   "outputs": [],
   "source": []
  },
  {
   "cell_type": "code",
   "execution_count": null,
   "metadata": {},
   "outputs": [],
   "source": []
  },
  {
   "cell_type": "code",
   "execution_count": null,
   "metadata": {},
   "outputs": [],
   "source": []
  }
 ],
 "metadata": {
  "kernelspec": {
   "display_name": "Python 3",
   "language": "python",
   "name": "python3"
  },
  "language_info": {
   "codemirror_mode": {
    "name": "ipython",
    "version": 3
   },
   "file_extension": ".py",
   "mimetype": "text/x-python",
   "name": "python",
   "nbconvert_exporter": "python",
   "pygments_lexer": "ipython3",
   "version": "3.7.1"
  }
 },
 "nbformat": 4,
 "nbformat_minor": 2
}
