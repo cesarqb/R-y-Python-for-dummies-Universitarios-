{
 "cells": [
  {
   "cell_type": "markdown",
   "metadata": {
    "toc": true
   },
   "source": [
    "<h1>Tabla de Contenidos<span class=\"tocSkip\"></span></h1>\n",
    "<div class=\"toc\"><ul class=\"toc-item\"><li><span><a href=\"#Introducción-a-Python\" data-toc-modified-id=\"Introducción-a-Python-1\"><span class=\"toc-item-num\">1&nbsp;&nbsp;</span>Introducción a Python</a></span><ul class=\"toc-item\"><li><span><a href=\"#Tipos-de-datos\" data-toc-modified-id=\"Tipos-de-datos-1.1\"><span class=\"toc-item-num\">1.1&nbsp;&nbsp;</span>Tipos de datos</a></span><ul class=\"toc-item\"><li><span><a href=\"#Numéricos\" data-toc-modified-id=\"Numéricos-1.1.1\"><span class=\"toc-item-num\">1.1.1&nbsp;&nbsp;</span>Numéricos</a></span></li><li><span><a href=\"#Cadenas-de-caracteres-(Strings)\" data-toc-modified-id=\"Cadenas-de-caracteres-(Strings)-1.1.2\"><span class=\"toc-item-num\">1.1.2&nbsp;&nbsp;</span>Cadenas de caracteres (Strings)</a></span></li><li><span><a href=\"#Boolean\" data-toc-modified-id=\"Boolean-1.1.3\"><span class=\"toc-item-num\">1.1.3&nbsp;&nbsp;</span>Boolean</a></span></li></ul></li><li><span><a href=\"#Operadores\" data-toc-modified-id=\"Operadores-1.2\"><span class=\"toc-item-num\">1.2&nbsp;&nbsp;</span>Operadores</a></span><ul class=\"toc-item\"><li><span><a href=\"#Operadores-Aritméticos\" data-toc-modified-id=\"Operadores-Aritméticos-1.2.1\"><span class=\"toc-item-num\">1.2.1&nbsp;&nbsp;</span>Operadores Aritméticos</a></span><ul class=\"toc-item\"><li><span><a href=\"#Suma-'-+-'\" data-toc-modified-id=\"Suma-'-+-'-1.2.1.1\"><span class=\"toc-item-num\">1.2.1.1&nbsp;&nbsp;</span>Suma ' + '</a></span></li><li><span><a href=\"#Resta-'---'\" data-toc-modified-id=\"Resta-'---'-1.2.1.2\"><span class=\"toc-item-num\">1.2.1.2&nbsp;&nbsp;</span>Resta ' - '</a></span></li><li><span><a href=\"#Multiplicación-'-*-'\" data-toc-modified-id=\"Multiplicación-'-*-'-1.2.1.3\"><span class=\"toc-item-num\">1.2.1.3&nbsp;&nbsp;</span>Multiplicación ' * '</a></span></li><li><span><a href=\"#División-'-/-'\" data-toc-modified-id=\"División-'-/-'-1.2.1.4\"><span class=\"toc-item-num\">1.2.1.4&nbsp;&nbsp;</span>División ' / '</a></span></li><li><span><a href=\"#Modulo-'-%-'\" data-toc-modified-id=\"Modulo-'-%-'-1.2.1.5\"><span class=\"toc-item-num\">1.2.1.5&nbsp;&nbsp;</span>Modulo ' % '</a></span></li><li><span><a href=\"#Exponenciación-'-**-'\" data-toc-modified-id=\"Exponenciación-'-**-'-1.2.1.6\"><span class=\"toc-item-num\">1.2.1.6&nbsp;&nbsp;</span>Exponenciación ' ** '</a></span></li></ul></li><li><span><a href=\"#Operadores-Booleanos\" data-toc-modified-id=\"Operadores-Booleanos-1.2.2\"><span class=\"toc-item-num\">1.2.2&nbsp;&nbsp;</span>Operadores Booleanos</a></span><ul class=\"toc-item\"><li><span><a href=\"#Operadores-and,-or,-not\" data-toc-modified-id=\"Operadores-and,-or,-not-1.2.2.1\"><span class=\"toc-item-num\">1.2.2.1&nbsp;&nbsp;</span>Operadores and, or, not</a></span></li><li><span><a href=\"#Operadores-de-comparación\" data-toc-modified-id=\"Operadores-de-comparación-1.2.2.2\"><span class=\"toc-item-num\">1.2.2.2&nbsp;&nbsp;</span>Operadores de comparación</a></span></li><li><span><a href=\"#Operadores-de-pertenencia\" data-toc-modified-id=\"Operadores-de-pertenencia-1.2.2.3\"><span class=\"toc-item-num\">1.2.2.3&nbsp;&nbsp;</span>Operadores de pertenencia</a></span></li><li><span><a href=\"#Operadores-de-identidad\" data-toc-modified-id=\"Operadores-de-identidad-1.2.2.4\"><span class=\"toc-item-num\">1.2.2.4&nbsp;&nbsp;</span>Operadores de identidad</a></span></li></ul></li><li><span><a href=\"#Otros-operadores\" data-toc-modified-id=\"Otros-operadores-1.2.3\"><span class=\"toc-item-num\">1.2.3&nbsp;&nbsp;</span>Otros operadores</a></span></li></ul></li><li><span><a href=\"#Ejercicios\" data-toc-modified-id=\"Ejercicios-1.3\"><span class=\"toc-item-num\">1.3&nbsp;&nbsp;</span>Ejercicios</a></span><ul class=\"toc-item\"><li><span><a href=\"#Ejercicio-1\" data-toc-modified-id=\"Ejercicio-1-1.3.1\"><span class=\"toc-item-num\">1.3.1&nbsp;&nbsp;</span>Ejercicio 1</a></span></li><li><span><a href=\"#Ejercicio-2\" data-toc-modified-id=\"Ejercicio-2-1.3.2\"><span class=\"toc-item-num\">1.3.2&nbsp;&nbsp;</span>Ejercicio 2</a></span></li><li><span><a href=\"#Ejercicio-3\" data-toc-modified-id=\"Ejercicio-3-1.3.3\"><span class=\"toc-item-num\">1.3.3&nbsp;&nbsp;</span>Ejercicio 3</a></span></li><li><span><a href=\"#Ejercicio-4\" data-toc-modified-id=\"Ejercicio-4-1.3.4\"><span class=\"toc-item-num\">1.3.4&nbsp;&nbsp;</span>Ejercicio 4</a></span></li><li><span><a href=\"#Ejercicio-5\" data-toc-modified-id=\"Ejercicio-5-1.3.5\"><span class=\"toc-item-num\">1.3.5&nbsp;&nbsp;</span>Ejercicio 5</a></span></li></ul></li></ul></li></ul></div>"
   ]
  },
  {
   "cell_type": "markdown",
   "metadata": {},
   "source": [
    "# Introducción a Python"
   ]
  },
  {
   "cell_type": "markdown",
   "metadata": {},
   "source": [
    "---\n",
    "\n",
    "## Tipos de datos\n",
    "\n",
    "Python es un lenguaje de tipado dinámico, y no necesita que se declaren las variables ni sus tipos. El nombre de las variables deben cumplir que:\n",
    "\n",
    "- Usar sólo caracteres alfanumérico y 'underscore' ( _ )\n",
    "- NO contener espacios en blanco\n",
    "- NO empezar por un número\n",
    "- En Python el nombre de las variables son *case sensitive*, i.e.: Python != python\n",
    "\n",
    "EL símbolo igual (`=`) se utiliza para asignar valores a las variables. Veamos algunos ejemplos:"
   ]
  },
  {
   "cell_type": "code",
   "execution_count": null,
   "metadata": {},
   "outputs": [],
   "source": [
    "x = 61.34"
   ]
  },
  {
   "cell_type": "code",
   "execution_count": null,
   "metadata": {},
   "outputs": [],
   "source": [
    "type(x)"
   ]
  },
  {
   "cell_type": "code",
   "execution_count": null,
   "metadata": {},
   "outputs": [],
   "source": [
    "# No se pueden crear variables cuyo nombre empiece por un número\n",
    "1x = 23"
   ]
  },
  {
   "cell_type": "code",
   "execution_count": null,
   "metadata": {},
   "outputs": [],
   "source": [
    "# def es una palabra reservada\n",
    "def = 2 "
   ]
  },
  {
   "cell_type": "markdown",
   "metadata": {},
   "source": [
    "En Python los tipos primitivos son: números, cadenas de caracteres (*string*), booleanos, tuplas, listas, y diccionarios."
   ]
  },
  {
   "cell_type": "markdown",
   "metadata": {},
   "source": [
    "En Python la instrucción para **imprimir por pantalla** es `print`. Por ejemplo:"
   ]
  },
  {
   "cell_type": "code",
   "execution_count": null,
   "metadata": {},
   "outputs": [],
   "source": [
    "print('El valor de x es: ', x)\n",
    "print('El doble de x es: ', 2 * x)"
   ]
  },
  {
   "cell_type": "markdown",
   "metadata": {},
   "source": [
    "### Numéricos\n",
    "\n",
    "Son objetos que almacenan valores numéricos. Se crean al asignarles un valor. \n",
    "\n",
    "Python aceptan cuatro tipo de valores numericos:\n",
    "\n",
    "- `int`\n",
    "- `float`\n",
    "- `complex`\n",
    "\n",
    "Por ejemplo:"
   ]
  },
  {
   "cell_type": "code",
   "execution_count": null,
   "metadata": {},
   "outputs": [],
   "source": [
    "x = 23\n",
    "y = 1.94"
   ]
  },
  {
   "cell_type": "markdown",
   "metadata": {
    "collapsed": true
   },
   "source": [
    "Si queremos saber el tipo de una variable podemos utilzar la función 'type'"
   ]
  },
  {
   "cell_type": "code",
   "execution_count": null,
   "metadata": {},
   "outputs": [],
   "source": [
    "type(x)"
   ]
  },
  {
   "cell_type": "markdown",
   "metadata": {},
   "source": [
    "Datatypes casting"
   ]
  },
  {
   "cell_type": "code",
   "execution_count": null,
   "metadata": {},
   "outputs": [],
   "source": [
    "c = \"1\"\n",
    "c = int(c)\n",
    "c"
   ]
  },
  {
   "cell_type": "code",
   "execution_count": null,
   "metadata": {},
   "outputs": [],
   "source": [
    "c=\"hola\"\n",
    "c = int(c)\n",
    "c"
   ]
  },
  {
   "cell_type": "code",
   "execution_count": null,
   "metadata": {},
   "outputs": [],
   "source": [
    "c=\"1.23\"\n",
    "c= float(c)\n",
    "c"
   ]
  },
  {
   "cell_type": "code",
   "execution_count": null,
   "metadata": {},
   "outputs": [],
   "source": [
    "c = 1\n",
    "c = str(c)\n",
    "c"
   ]
  },
  {
   "cell_type": "code",
   "execution_count": null,
   "metadata": {},
   "outputs": [],
   "source": [
    "print(x, y, 2 * x, 2 * y)"
   ]
  },
  {
   "cell_type": "code",
   "execution_count": null,
   "metadata": {},
   "outputs": [],
   "source": [
    "z = 2 + 2j # Complex"
   ]
  },
  {
   "cell_type": "code",
   "execution_count": null,
   "metadata": {},
   "outputs": [],
   "source": [
    "type(z)"
   ]
  },
  {
   "cell_type": "code",
   "execution_count": null,
   "metadata": {},
   "outputs": [],
   "source": [
    "print(type(z), z)"
   ]
  },
  {
   "cell_type": "code",
   "execution_count": null,
   "metadata": {},
   "outputs": [],
   "source": [
    "# ERROR: no se pueden utilizar variables para definir números complejos\n",
    "w = x + yj\n",
    "print(type(w), w)"
   ]
  },
  {
   "cell_type": "code",
   "execution_count": null,
   "metadata": {},
   "outputs": [],
   "source": [
    "w = complex(x,y)\n",
    "print(w)"
   ]
  },
  {
   "cell_type": "code",
   "execution_count": null,
   "metadata": {},
   "outputs": [],
   "source": [
    "h = complex(x,y)     # Cast a complex\n",
    "print(type(h),h)"
   ]
  },
  {
   "cell_type": "markdown",
   "metadata": {},
   "source": [
    "Consultar la ayuda de una función se puede hacer de dos formas:"
   ]
  },
  {
   "cell_type": "code",
   "execution_count": null,
   "metadata": {},
   "outputs": [],
   "source": [
    "h"
   ]
  },
  {
   "cell_type": "code",
   "execution_count": null,
   "metadata": {},
   "outputs": [],
   "source": [
    "h.real"
   ]
  },
  {
   "cell_type": "code",
   "execution_count": null,
   "metadata": {},
   "outputs": [],
   "source": [
    "h.imag"
   ]
  },
  {
   "cell_type": "code",
   "execution_count": null,
   "metadata": {},
   "outputs": [],
   "source": [
    "complex??"
   ]
  },
  {
   "cell_type": "code",
   "execution_count": null,
   "metadata": {},
   "outputs": [],
   "source": [
    "help(complex)"
   ]
  },
  {
   "cell_type": "markdown",
   "metadata": {},
   "source": [
    "### Cadenas de caracteres (Strings)\n",
    "\n",
    "Consisten en secuencias de caracteres dentro de comillas. En Python las variables *strings* se pueden declarar indistintamente usando comillas simples('') o dobles (\"\")."
   ]
  },
  {
   "cell_type": "code",
   "execution_count": null,
   "metadata": {},
   "outputs": [],
   "source": [
    "nombre = 'Carlos'\n",
    "apellido = \"Perez\""
   ]
  },
  {
   "cell_type": "markdown",
   "metadata": {},
   "source": [
    "Las cadenas de caracteres **son objetos *inmutables***, es decir, una vez creado el literal no puede modificarse. Por ejemplo:"
   ]
  },
  {
   "cell_type": "code",
   "execution_count": null,
   "metadata": {},
   "outputs": [],
   "source": [
    "type(apellido)"
   ]
  },
  {
   "cell_type": "code",
   "execution_count": 3,
   "metadata": {},
   "outputs": [
    {
     "data": {
      "text/plain": [
       "'ana isabel'"
      ]
     },
     "execution_count": 3,
     "metadata": {},
     "output_type": "execute_result"
    }
   ],
   "source": [
    "nombre = \"Ana Isabel\"\n",
    "nombre.lower()"
   ]
  },
  {
   "cell_type": "code",
   "execution_count": 4,
   "metadata": {},
   "outputs": [
    {
     "name": "stdout",
     "output_type": "stream",
     "text": [
      "10  \n"
     ]
    }
   ],
   "source": [
    "print(len(nombre), nombre[3])"
   ]
  },
  {
   "cell_type": "code",
   "execution_count": null,
   "metadata": {},
   "outputs": [],
   "source": [
    "# Esto es un comentario"
   ]
  },
  {
   "cell_type": "markdown",
   "metadata": {},
   "source": [
    "Una misma variable puede referenciar a distintos tipos de datos, sin necesidad de declarar explícitamente su tipo."
   ]
  },
  {
   "cell_type": "code",
   "execution_count": 6,
   "metadata": {},
   "outputs": [
    {
     "name": "stdout",
     "output_type": "stream",
     "text": [
      "<class 'str'> a\n"
     ]
    }
   ],
   "source": [
    "x = 'a'\n",
    "print(type(x), x)"
   ]
  },
  {
   "cell_type": "code",
   "execution_count": null,
   "metadata": {},
   "outputs": [],
   "source": [
    "type(x)"
   ]
  },
  {
   "cell_type": "markdown",
   "metadata": {},
   "source": [
    "Una cadena en Python es una **colección ordenada de caracteres**. Se puede acceder a cada caracter de la cadena a través de su **posición**.\n",
    "<img src=\"img/indexing_string.png\">"
   ]
  },
  {
   "cell_type": "code",
   "execution_count": null,
   "metadata": {},
   "outputs": [],
   "source": [
    "cadena = \"hello\"\n",
    "print(cadena[0])\n",
    "print(cadena[1])"
   ]
  },
  {
   "cell_type": "code",
   "execution_count": null,
   "metadata": {},
   "outputs": [],
   "source": [
    "# ERROR: Los `str` son inmutables\n",
    "nombre[0] = 'c'"
   ]
  },
  {
   "cell_type": "markdown",
   "metadata": {},
   "source": [
    "### Boolean"
   ]
  },
  {
   "cell_type": "code",
   "execution_count": null,
   "metadata": {},
   "outputs": [],
   "source": [
    "green = True\n",
    "red = False\n",
    "yellow = False"
   ]
  },
  {
   "cell_type": "markdown",
   "metadata": {},
   "source": [
    "---\n",
    "\n",
    "## Operadores\n",
    "\n",
    "En este apartado se muestran los principales operadores de Python. Con ellos se pueden relacionar o comparar variables."
   ]
  },
  {
   "cell_type": "markdown",
   "metadata": {},
   "source": [
    "### Operadores Aritméticos\n",
    "\n",
    "Los operadores aritméticos sirven principalmente para los tipos de datos numéricos, si bien tienen algunas utilidades con otros tipos de datos como listas o cadenas de caracteres.\n",
    "\n",
    "- **Adición** (también para cadenas de caracteres, tuplas, y concatenación de listas): `a + b`\n",
    "- **Sustracción** (también para complementos de conjunto): `a - b`\n",
    "- **Multiplicación** (también para cadenas de caracteres, tuplas, y replicación de listas): `a * b`\n",
    "- **División**: `a / b`\n",
    "- **División entera truncada** : `a // b`\n",
    "- **Módulo o residuo de la división**: `a % b`\n",
    "- **Exponeciación**: `a ** b`\n",
    "- **Asignación**: `=`, `-=`, `+=`, `/=`, `*=`, `%=`, `//=`, `**=`\n"
   ]
  },
  {
   "cell_type": "markdown",
   "metadata": {},
   "source": [
    "#### Suma ' + '"
   ]
  },
  {
   "cell_type": "code",
   "execution_count": null,
   "metadata": {},
   "outputs": [],
   "source": [
    " 2 + 4"
   ]
  },
  {
   "cell_type": "markdown",
   "metadata": {},
   "source": [
    "El operador '+' también se puede utilizar para concatenar cadenas de caracteres (strings), p.e:"
   ]
  },
  {
   "cell_type": "code",
   "execution_count": 1,
   "metadata": {},
   "outputs": [
    {
     "ename": "NameError",
     "evalue": "name 'nombre' is not defined",
     "output_type": "error",
     "traceback": [
      "\u001b[1;31m---------------------------------------------------------------------------\u001b[0m",
      "\u001b[1;31mNameError\u001b[0m                                 Traceback (most recent call last)",
      "\u001b[1;32m<ipython-input-1-8f2def183c7b>\u001b[0m in \u001b[0;36m<module>\u001b[1;34m\u001b[0m\n\u001b[1;32m----> 1\u001b[1;33m \u001b[0mnombre\u001b[0m \u001b[1;33m+\u001b[0m \u001b[1;34m' Francisco '\u001b[0m \u001b[1;33m+\u001b[0m \u001b[0mapellido\u001b[0m\u001b[1;33m\u001b[0m\u001b[1;33m\u001b[0m\u001b[0m\n\u001b[0m",
      "\u001b[1;31mNameError\u001b[0m: name 'nombre' is not defined"
     ]
    }
   ],
   "source": [
    "nombre + ' Francisco ' + apellido"
   ]
  },
  {
   "cell_type": "markdown",
   "metadata": {},
   "source": [
    "#### Resta ' - '"
   ]
  },
  {
   "cell_type": "code",
   "execution_count": null,
   "metadata": {},
   "outputs": [],
   "source": [
    "10.5 - 0.5"
   ]
  },
  {
   "cell_type": "code",
   "execution_count": null,
   "metadata": {},
   "outputs": [],
   "source": [
    "nombre - apellido"
   ]
  },
  {
   "cell_type": "markdown",
   "metadata": {},
   "source": [
    "#### Multiplicación ' * '"
   ]
  },
  {
   "cell_type": "code",
   "execution_count": null,
   "metadata": {},
   "outputs": [],
   "source": [
    "2.3 * 4"
   ]
  },
  {
   "cell_type": "code",
   "execution_count": null,
   "metadata": {},
   "outputs": [],
   "source": [
    "('NaNa'*16 + ' Batman!')"
   ]
  },
  {
   "cell_type": "markdown",
   "metadata": {},
   "source": [
    "#### División ' / '\n",
    "\n",
    "En la versión de Python 2.7, el operador ' / ' implementa por defecto la división entera.\n",
    "En Python 3.X esto ha cambiado, y el operador '/ ' corresponde a división decimal por defecto."
   ]
  },
  {
   "cell_type": "code",
   "execution_count": null,
   "metadata": {},
   "outputs": [],
   "source": [
    "div =  10 / 2\n",
    "print(type(div), div)"
   ]
  },
  {
   "cell_type": "code",
   "execution_count": null,
   "metadata": {},
   "outputs": [],
   "source": [
    "div = 10 / 4.0\n",
    "print(type(div), div)"
   ]
  },
  {
   "cell_type": "code",
   "execution_count": null,
   "metadata": {},
   "outputs": [],
   "source": [
    "div = 10. / 3.0\n",
    "print(div)"
   ]
  },
  {
   "cell_type": "markdown",
   "metadata": {},
   "source": [
    "#### Modulo ' % '"
   ]
  },
  {
   "cell_type": "code",
   "execution_count": null,
   "metadata": {},
   "outputs": [],
   "source": [
    "10 % 3"
   ]
  },
  {
   "cell_type": "markdown",
   "metadata": {},
   "source": [
    "#### Exponenciación ' ** '"
   ]
  },
  {
   "cell_type": "code",
   "execution_count": null,
   "metadata": {},
   "outputs": [],
   "source": [
    "3**3"
   ]
  },
  {
   "cell_type": "markdown",
   "metadata": {},
   "source": [
    "### Operadores Booleanos\n",
    "\n",
    "- **Operadores Booleanos**: `and`, `or`, `not`\n",
    "- **Operadores de comparación**: `==`, `!=`, `<`, `>`, `<=`, `>=`\n",
    "- **Operadores de pertenencia**: `in`, `not in`\n",
    "- **Operadores de identidad**: `is`, `is not`"
   ]
  },
  {
   "cell_type": "markdown",
   "metadata": {},
   "source": [
    "#### Operadores and, or, not"
   ]
  },
  {
   "cell_type": "code",
   "execution_count": null,
   "metadata": {},
   "outputs": [],
   "source": [
    "True and False"
   ]
  },
  {
   "cell_type": "code",
   "execution_count": null,
   "metadata": {},
   "outputs": [],
   "source": [
    "True or False"
   ]
  },
  {
   "cell_type": "code",
   "execution_count": null,
   "metadata": {},
   "outputs": [],
   "source": [
    "not True"
   ]
  },
  {
   "cell_type": "markdown",
   "metadata": {},
   "source": [
    "#### Operadores de comparación "
   ]
  },
  {
   "cell_type": "code",
   "execution_count": null,
   "metadata": {},
   "outputs": [],
   "source": [
    "2 == 2 # igualdad"
   ]
  },
  {
   "cell_type": "code",
   "execution_count": null,
   "metadata": {},
   "outputs": [],
   "source": [
    "2 != 2 # desigualdad "
   ]
  },
  {
   "cell_type": "code",
   "execution_count": null,
   "metadata": {},
   "outputs": [],
   "source": [
    "2 > 3 # mayor que"
   ]
  },
  {
   "cell_type": "code",
   "execution_count": null,
   "metadata": {},
   "outputs": [],
   "source": [
    "2 < 3 # menor que"
   ]
  },
  {
   "cell_type": "code",
   "execution_count": null,
   "metadata": {},
   "outputs": [],
   "source": [
    "2 <= 2 # menor o igual que"
   ]
  },
  {
   "cell_type": "code",
   "execution_count": null,
   "metadata": {},
   "outputs": [],
   "source": [
    "2 >= 3 # mayor o igual que"
   ]
  },
  {
   "cell_type": "markdown",
   "metadata": {},
   "source": [
    "#### Operadores de pertenencia\n",
    "\n",
    "Estos operadores verifican si un dato pertenece a una secuencia, como cadenas de caracteres, listas, o tuplas."
   ]
  },
  {
   "cell_type": "code",
   "execution_count": null,
   "metadata": {},
   "outputs": [],
   "source": [
    "'a' in 'casa'"
   ]
  },
  {
   "cell_type": "code",
   "execution_count": null,
   "metadata": {},
   "outputs": [],
   "source": [
    "'aa' in casa"
   ]
  },
  {
   "cell_type": "code",
   "execution_count": null,
   "metadata": {},
   "outputs": [],
   "source": [
    "'b' not in 'tambor'"
   ]
  },
  {
   "cell_type": "markdown",
   "metadata": {},
   "source": [
    "#### Operadores de identidad\n",
    "\n",
    "Los operadores de identidad comparan la dirección de memoria de dos objetos."
   ]
  },
  {
   "cell_type": "code",
   "execution_count": 7,
   "metadata": {},
   "outputs": [],
   "source": [
    "a = 'casa'\n",
    "b = 'perro'"
   ]
  },
  {
   "cell_type": "code",
   "execution_count": 8,
   "metadata": {},
   "outputs": [
    {
     "data": {
      "text/plain": [
       "False"
      ]
     },
     "execution_count": 8,
     "metadata": {},
     "output_type": "execute_result"
    }
   ],
   "source": [
    "a is b"
   ]
  },
  {
   "cell_type": "code",
   "execution_count": 9,
   "metadata": {},
   "outputs": [],
   "source": [
    "a = 'perro'"
   ]
  },
  {
   "cell_type": "code",
   "execution_count": 10,
   "metadata": {},
   "outputs": [
    {
     "data": {
      "text/plain": [
       "True"
      ]
     },
     "execution_count": 10,
     "metadata": {},
     "output_type": "execute_result"
    }
   ],
   "source": [
    "a is b"
   ]
  },
  {
   "cell_type": "code",
   "execution_count": 11,
   "metadata": {},
   "outputs": [
    {
     "data": {
      "text/plain": [
       "False"
      ]
     },
     "execution_count": 11,
     "metadata": {},
     "output_type": "execute_result"
    }
   ],
   "source": [
    "a is not b"
   ]
  },
  {
   "cell_type": "code",
   "execution_count": null,
   "metadata": {},
   "outputs": [],
   "source": [
    "print(id(a), id(b))"
   ]
  },
  {
   "cell_type": "code",
   "execution_count": null,
   "metadata": {},
   "outputs": [],
   "source": [
    "a = 'casa'\n",
    "b = 'casa'\n",
    "a is b\n",
    "print(id(a),id(b))"
   ]
  },
  {
   "cell_type": "markdown",
   "metadata": {},
   "source": []
  },
  {
   "cell_type": "markdown",
   "metadata": {},
   "source": [
    "<div class=\"alert alert-info\">**Nota**: Como vemos, Python está reutilizando el mismo objeto en memoria al asignárselo a `b`, ya que `a` y `b` apuntan al mismo objetbo en memoria. Sin embargo, esto no ocurre en todos los casos. Veamos un ejemplo similar:</div>"
   ]
  },
  {
   "cell_type": "code",
   "execution_count": 13,
   "metadata": {},
   "outputs": [
    {
     "data": {
      "text/plain": [
       "True"
      ]
     },
     "execution_count": 13,
     "metadata": {},
     "output_type": "execute_result"
    }
   ],
   "source": [
    "a = \"Supercalifragilísticoespialidoso\"\n",
    "b = \"Supercalifragilísticoespialidoso\"\n",
    "a == b"
   ]
  },
  {
   "cell_type": "code",
   "execution_count": 14,
   "metadata": {},
   "outputs": [
    {
     "data": {
      "text/plain": [
       "False"
      ]
     },
     "execution_count": 14,
     "metadata": {},
     "output_type": "execute_result"
    }
   ],
   "source": [
    "a is b"
   ]
  },
  {
   "cell_type": "code",
   "execution_count": 15,
   "metadata": {},
   "outputs": [
    {
     "data": {
      "text/plain": [
       "(80242032, 80242144)"
      ]
     },
     "execution_count": 15,
     "metadata": {},
     "output_type": "execute_result"
    }
   ],
   "source": [
    "id(a), id(b)"
   ]
  },
  {
   "cell_type": "markdown",
   "metadata": {},
   "source": [
    "¿Qué ha ocurrido aquí? Por qué no ha reutilizado el objeto? Esto se debe al funcionamiento interno de Python y a las decisiones de optimización que toma el intérprete de Python. Lo que sucede es que Python sólo reutiliza objetos pequeños ya que es mucho más eficiente guardarlos en una caché interna que volverlos a generar. Esto sólo ocurre en objetos básicos que cumplan estos reglas:\n",
    "  \n",
    "    Strings (`str`) sin espacios que tengan menos de 20 caracteres\n",
    "    Números enteros (`int`) en el rango -5 a +255"
   ]
  },
  {
   "cell_type": "markdown",
   "metadata": {},
   "source": [
    "### Otros operadores\n",
    "\n",
    "- **Operadores de bit** (or, xor, and, complemento): `|`, `^`, `&`, `~`\n",
    "- **Desplazamiento bit a la izquierda y derecha**: `<<`, `>>`"
   ]
  },
  {
   "cell_type": "markdown",
   "metadata": {},
   "source": [
    "## Ejercicios"
   ]
  },
  {
   "cell_type": "markdown",
   "metadata": {},
   "source": [
    "### Ejercicio 1"
   ]
  },
  {
   "cell_type": "markdown",
   "metadata": {},
   "source": [
    "Supongamos que tenemos los siguientes datos:\n",
    "\n",
    "- nombre = Maria Gonzalez\n",
    "- edad = 18\n",
    "- direccion = Paseo de la castellana 20, Madrid\n",
    "- pais = España\n",
    "- sueldo_mensual = 1500.65\n",
    "- gastos = 800\n",
    "\n",
    "\n",
    "Escribe código para que, tras guardar los datos en variables, se imprima por pantalla: 'Maria Gonzalez, de 18 años, y domicilio en Paseo de la castellana 20, Madrid, tiene restante de su sueldo tras los gastos 700.65' usando las variables mencionadas, y redondeando el dinero restante a dos decimales"
   ]
  },
  {
   "cell_type": "code",
   "execution_count": null,
   "metadata": {},
   "outputs": [],
   "source": [
    "# Respuesta"
   ]
  },
  {
   "cell_type": "markdown",
   "metadata": {},
   "source": [
    "### Ejercicio 2"
   ]
  },
  {
   "cell_type": "markdown",
   "metadata": {},
   "source": [
    "Escribe en una línea, código que coja el texto siguiente de la variable txt, le quite los signos de puntuación, y lo deje todo en minúsculas"
   ]
  },
  {
   "cell_type": "code",
   "execution_count": null,
   "metadata": {},
   "outputs": [],
   "source": [
    "txt = u'¿La formación tributa por el IRPF? ¿Y la devolución de la cláusula suelo?  \\\n",
    "¿Qué límites de ventas tiene un autónomo para declarar por estimación objetiva?'"
   ]
  },
  {
   "cell_type": "code",
   "execution_count": null,
   "metadata": {},
   "outputs": [],
   "source": [
    "# Respuesta"
   ]
  },
  {
   "cell_type": "markdown",
   "metadata": {},
   "source": [
    "### Ejercicio 3"
   ]
  },
  {
   "cell_type": "markdown",
   "metadata": {},
   "source": [
    "Calcula 11111111111111111111+2222222222222222222 sin escribir los números enteros"
   ]
  },
  {
   "cell_type": "code",
   "execution_count": null,
   "metadata": {},
   "outputs": [],
   "source": [
    "# Respuesta"
   ]
  },
  {
   "cell_type": "markdown",
   "metadata": {},
   "source": [
    "### Ejercicio 4"
   ]
  },
  {
   "cell_type": "markdown",
   "metadata": {},
   "source": [
    "Solicita por pantalla que el usuario introduzca un número de segundos. \n",
    "Luego calcula:\n",
    "        1. Número de minutos que es dicho número de segundos introducidos\n",
    "        2. Número de segundos restantes\n",
    "E imprimelo por pantalla.\n",
    "Por ejemplo, si el usuario introduce 90, eso imprimiria 1 minuto y 30 segundos.\n",
    "Pista: ver la función input para leer por pantalla."
   ]
  },
  {
   "cell_type": "code",
   "execution_count": null,
   "metadata": {},
   "outputs": [],
   "source": [
    "# Respuesta"
   ]
  },
  {
   "cell_type": "markdown",
   "metadata": {},
   "source": [
    "### Ejercicio 5"
   ]
  },
  {
   "cell_type": "markdown",
   "metadata": {},
   "source": [
    "Escribe código para que, dado un string, imprima por pantalla el string al revés. \n",
    "\n",
    "Por ejemplo: 'hola' -> 'aloh'"
   ]
  },
  {
   "cell_type": "code",
   "execution_count": null,
   "metadata": {},
   "outputs": [],
   "source": [
    "# Respuesta"
   ]
  }
 ],
 "metadata": {
  "anaconda-cloud": {},
  "kernelspec": {
   "display_name": "Python 3",
   "language": "python",
   "name": "python3"
  },
  "language_info": {
   "codemirror_mode": {
    "name": "ipython",
    "version": 3
   },
   "file_extension": ".py",
   "mimetype": "text/x-python",
   "name": "python",
   "nbconvert_exporter": "python",
   "pygments_lexer": "ipython3",
   "version": "3.7.1"
  },
  "toc": {
   "nav_menu": {
    "height": "386px",
    "width": "306px"
   },
   "number_sections": true,
   "sideBar": true,
   "skip_h1_title": false,
   "title_cell": "Table of Contents",
   "title_sidebar": "Contents",
   "toc_cell": true,
   "toc_position": {
    "height": "calc(100% - 180px)",
    "left": "10px",
    "top": "150px",
    "width": "337px"
   },
   "toc_section_display": true,
   "toc_window_display": true
  },
  "varInspector": {
   "cols": {
    "lenName": 16,
    "lenType": 16,
    "lenVar": 40
   },
   "kernels_config": {
    "python": {
     "delete_cmd_postfix": "",
     "delete_cmd_prefix": "del ",
     "library": "var_list.py",
     "varRefreshCmd": "print(var_dic_list())"
    },
    "r": {
     "delete_cmd_postfix": ") ",
     "delete_cmd_prefix": "rm(",
     "library": "var_list.r",
     "varRefreshCmd": "cat(var_dic_list()) "
    }
   },
   "types_to_exclude": [
    "module",
    "function",
    "builtin_function_or_method",
    "instance",
    "_Feature"
   ],
   "window_display": false
  }
 },
 "nbformat": 4,
 "nbformat_minor": 2
}
