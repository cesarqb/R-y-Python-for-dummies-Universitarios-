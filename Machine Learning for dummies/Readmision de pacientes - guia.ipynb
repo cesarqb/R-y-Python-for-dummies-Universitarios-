{
 "cells": [
  {
   "cell_type": "markdown",
   "metadata": {},
   "source": [
    "**1. Carga de modulos**"
   ]
  },
  {
   "cell_type": "code",
   "execution_count": 1,
   "metadata": {},
   "outputs": [],
   "source": [
    "import pandas as pd\n",
    "import numpy as np\n",
    "import matplotlib.pyplot as plt"
   ]
  },
  {
   "cell_type": "markdown",
   "metadata": {},
   "source": [
    "**2. Carga de bases de datos**"
   ]
  },
  {
   "cell_type": "code",
   "execution_count": 177,
   "metadata": {},
   "outputs": [],
   "source": [
    "bd_diabetic_data = pd.read_csv('data/diabetic_data.csv')\n",
    "bd_AdmissionSource = pd.read_csv('data/admission_source_id.csv')\n",
    "bd_admission_type_id = pd.read_csv('data/admission_type_id.csv')\n",
    "bd_discharge_disposition_id = pd.read_csv('data/discharge_disposition_id.csv')"
   ]
  },
  {
   "cell_type": "code",
   "execution_count": 4,
   "metadata": {},
   "outputs": [
    {
     "data": {
      "text/plain": [
       "admission_type_id\n",
       "1    53990\n",
       "2    18480\n",
       "3    18869\n",
       "4       10\n",
       "5     4785\n",
       "6     5291\n",
       "7       21\n",
       "8      320\n",
       "dtype: int64"
      ]
     },
     "execution_count": 4,
     "metadata": {},
     "output_type": "execute_result"
    }
   ],
   "source": [
    "#bd_diabetic_data.shape\n",
    "#bd_diabetic_data.dtypes\n",
    "bd_diabetic_data.groupby(\"admission_type_id\").size()"
   ]
  },
  {
   "cell_type": "markdown",
   "metadata": {},
   "source": [
    "*Comprobar correcta lectura de datos*"
   ]
  },
  {
   "cell_type": "code",
   "execution_count": 11,
   "metadata": {},
   "outputs": [
    {
     "data": {
      "text/html": [
       "<div>\n",
       "<style scoped>\n",
       "    .dataframe tbody tr th:only-of-type {\n",
       "        vertical-align: middle;\n",
       "    }\n",
       "\n",
       "    .dataframe tbody tr th {\n",
       "        vertical-align: top;\n",
       "    }\n",
       "\n",
       "    .dataframe thead th {\n",
       "        text-align: right;\n",
       "    }\n",
       "</style>\n",
       "<table border=\"1\" class=\"dataframe\">\n",
       "  <thead>\n",
       "    <tr style=\"text-align: right;\">\n",
       "      <th></th>\n",
       "      <th>admission_source_id</th>\n",
       "      <th>description</th>\n",
       "    </tr>\n",
       "  </thead>\n",
       "  <tbody>\n",
       "    <tr>\n",
       "      <th>0</th>\n",
       "      <td>1</td>\n",
       "      <td>Physician Referral</td>\n",
       "    </tr>\n",
       "    <tr>\n",
       "      <th>1</th>\n",
       "      <td>2</td>\n",
       "      <td>Clinic Referral</td>\n",
       "    </tr>\n",
       "    <tr>\n",
       "      <th>2</th>\n",
       "      <td>3</td>\n",
       "      <td>HMO Referral</td>\n",
       "    </tr>\n",
       "    <tr>\n",
       "      <th>3</th>\n",
       "      <td>4</td>\n",
       "      <td>Transfer from a hospital</td>\n",
       "    </tr>\n",
       "    <tr>\n",
       "      <th>4</th>\n",
       "      <td>5</td>\n",
       "      <td>Transfer from a Skilled Nursing Facility (SNF)</td>\n",
       "    </tr>\n",
       "    <tr>\n",
       "      <th>5</th>\n",
       "      <td>6</td>\n",
       "      <td>Transfer from another health care facility</td>\n",
       "    </tr>\n",
       "    <tr>\n",
       "      <th>6</th>\n",
       "      <td>7</td>\n",
       "      <td>Emergency Room</td>\n",
       "    </tr>\n",
       "    <tr>\n",
       "      <th>7</th>\n",
       "      <td>8</td>\n",
       "      <td>Court/Law Enforcement</td>\n",
       "    </tr>\n",
       "    <tr>\n",
       "      <th>8</th>\n",
       "      <td>9</td>\n",
       "      <td>Not Available</td>\n",
       "    </tr>\n",
       "    <tr>\n",
       "      <th>9</th>\n",
       "      <td>10</td>\n",
       "      <td>Transfer from critial access hospital</td>\n",
       "    </tr>\n",
       "  </tbody>\n",
       "</table>\n",
       "</div>"
      ],
      "text/plain": [
       "   admission_source_id                                      description\n",
       "0                    1                               Physician Referral\n",
       "1                    2                                  Clinic Referral\n",
       "2                    3                                     HMO Referral\n",
       "3                    4                         Transfer from a hospital\n",
       "4                    5   Transfer from a Skilled Nursing Facility (SNF)\n",
       "5                    6       Transfer from another health care facility\n",
       "6                    7                                   Emergency Room\n",
       "7                    8                            Court/Law Enforcement\n",
       "8                    9                                    Not Available\n",
       "9                   10            Transfer from critial access hospital"
      ]
     },
     "execution_count": 11,
     "metadata": {},
     "output_type": "execute_result"
    }
   ],
   "source": [
    "bd_AdmissionSource.head(10)"
   ]
  },
  {
   "cell_type": "code",
   "execution_count": 12,
   "metadata": {
    "scrolled": true
   },
   "outputs": [
    {
     "data": {
      "text/html": [
       "<div>\n",
       "<style scoped>\n",
       "    .dataframe tbody tr th:only-of-type {\n",
       "        vertical-align: middle;\n",
       "    }\n",
       "\n",
       "    .dataframe tbody tr th {\n",
       "        vertical-align: top;\n",
       "    }\n",
       "\n",
       "    .dataframe thead th {\n",
       "        text-align: right;\n",
       "    }\n",
       "</style>\n",
       "<table border=\"1\" class=\"dataframe\">\n",
       "  <thead>\n",
       "    <tr style=\"text-align: right;\">\n",
       "      <th></th>\n",
       "      <th>admission_type_id</th>\n",
       "      <th>description</th>\n",
       "    </tr>\n",
       "  </thead>\n",
       "  <tbody>\n",
       "    <tr>\n",
       "      <th>0</th>\n",
       "      <td>1</td>\n",
       "      <td>Emergency</td>\n",
       "    </tr>\n",
       "    <tr>\n",
       "      <th>1</th>\n",
       "      <td>2</td>\n",
       "      <td>Urgent</td>\n",
       "    </tr>\n",
       "    <tr>\n",
       "      <th>2</th>\n",
       "      <td>3</td>\n",
       "      <td>Elective</td>\n",
       "    </tr>\n",
       "    <tr>\n",
       "      <th>3</th>\n",
       "      <td>4</td>\n",
       "      <td>Newborn</td>\n",
       "    </tr>\n",
       "    <tr>\n",
       "      <th>4</th>\n",
       "      <td>5</td>\n",
       "      <td>Not Available</td>\n",
       "    </tr>\n",
       "    <tr>\n",
       "      <th>5</th>\n",
       "      <td>6</td>\n",
       "      <td>None</td>\n",
       "    </tr>\n",
       "    <tr>\n",
       "      <th>6</th>\n",
       "      <td>7</td>\n",
       "      <td>Trauma Center</td>\n",
       "    </tr>\n",
       "    <tr>\n",
       "      <th>7</th>\n",
       "      <td>8</td>\n",
       "      <td>Not Mapped</td>\n",
       "    </tr>\n",
       "  </tbody>\n",
       "</table>\n",
       "</div>"
      ],
      "text/plain": [
       "   admission_type_id    description\n",
       "0                  1      Emergency\n",
       "1                  2         Urgent\n",
       "2                  3       Elective\n",
       "3                  4        Newborn\n",
       "4                  5  Not Available\n",
       "5                  6           None\n",
       "6                  7  Trauma Center\n",
       "7                  8     Not Mapped"
      ]
     },
     "execution_count": 12,
     "metadata": {},
     "output_type": "execute_result"
    }
   ],
   "source": [
    "bd_admission_type_id.head(10)"
   ]
  },
  {
   "cell_type": "code",
   "execution_count": 13,
   "metadata": {},
   "outputs": [
    {
     "data": {
      "text/html": [
       "<div>\n",
       "<style scoped>\n",
       "    .dataframe tbody tr th:only-of-type {\n",
       "        vertical-align: middle;\n",
       "    }\n",
       "\n",
       "    .dataframe tbody tr th {\n",
       "        vertical-align: top;\n",
       "    }\n",
       "\n",
       "    .dataframe thead th {\n",
       "        text-align: right;\n",
       "    }\n",
       "</style>\n",
       "<table border=\"1\" class=\"dataframe\">\n",
       "  <thead>\n",
       "    <tr style=\"text-align: right;\">\n",
       "      <th></th>\n",
       "      <th>discharge_disposition_id</th>\n",
       "      <th>description</th>\n",
       "    </tr>\n",
       "  </thead>\n",
       "  <tbody>\n",
       "    <tr>\n",
       "      <th>0</th>\n",
       "      <td>1</td>\n",
       "      <td>Discharged to home</td>\n",
       "    </tr>\n",
       "    <tr>\n",
       "      <th>1</th>\n",
       "      <td>2</td>\n",
       "      <td>Discharged/transferred to another short term h...</td>\n",
       "    </tr>\n",
       "    <tr>\n",
       "      <th>2</th>\n",
       "      <td>3</td>\n",
       "      <td>Discharged/transferred to SNF</td>\n",
       "    </tr>\n",
       "    <tr>\n",
       "      <th>3</th>\n",
       "      <td>4</td>\n",
       "      <td>Discharged/transferred to ICF</td>\n",
       "    </tr>\n",
       "    <tr>\n",
       "      <th>4</th>\n",
       "      <td>5</td>\n",
       "      <td>Discharged/transferred to another type of inpa...</td>\n",
       "    </tr>\n",
       "    <tr>\n",
       "      <th>5</th>\n",
       "      <td>6</td>\n",
       "      <td>Discharged/transferred to home with home healt...</td>\n",
       "    </tr>\n",
       "    <tr>\n",
       "      <th>6</th>\n",
       "      <td>7</td>\n",
       "      <td>Left AMA</td>\n",
       "    </tr>\n",
       "    <tr>\n",
       "      <th>7</th>\n",
       "      <td>8</td>\n",
       "      <td>Discharged/transferred to home under care of H...</td>\n",
       "    </tr>\n",
       "    <tr>\n",
       "      <th>8</th>\n",
       "      <td>9</td>\n",
       "      <td>Admitted as an inpatient to this hospital</td>\n",
       "    </tr>\n",
       "    <tr>\n",
       "      <th>9</th>\n",
       "      <td>10</td>\n",
       "      <td>Neonate discharged to another hospital for neo...</td>\n",
       "    </tr>\n",
       "  </tbody>\n",
       "</table>\n",
       "</div>"
      ],
      "text/plain": [
       "   discharge_disposition_id                                        description\n",
       "0                         1                                 Discharged to home\n",
       "1                         2  Discharged/transferred to another short term h...\n",
       "2                         3                      Discharged/transferred to SNF\n",
       "3                         4                      Discharged/transferred to ICF\n",
       "4                         5  Discharged/transferred to another type of inpa...\n",
       "5                         6  Discharged/transferred to home with home healt...\n",
       "6                         7                                           Left AMA\n",
       "7                         8  Discharged/transferred to home under care of H...\n",
       "8                         9          Admitted as an inpatient to this hospital\n",
       "9                        10  Neonate discharged to another hospital for neo..."
      ]
     },
     "execution_count": 13,
     "metadata": {},
     "output_type": "execute_result"
    }
   ],
   "source": [
    "bd_discharge_disposition_id.head(10)"
   ]
  },
  {
   "cell_type": "markdown",
   "metadata": {},
   "source": [
    "*Juntamos las bases de datos*"
   ]
  },
  {
   "cell_type": "code",
   "execution_count": 178,
   "metadata": {},
   "outputs": [],
   "source": [
    "bd_diabetes1 = pd.merge(bd_diabetic_data,bd_AdmissionSource, on = \"admission_source_id\", how = \"left\")\n",
    "bd_diabetes2 = pd.merge(bd_diabetes1,bd_admission_type_id, on = \"admission_type_id\", how = \"left\" )\n",
    "bd_full = pd.merge(bd_diabetes2,bd_discharge_disposition_id, on = \"discharge_disposition_id\", how  = \"left\")"
   ]
  },
  {
   "cell_type": "code",
   "execution_count": 179,
   "metadata": {},
   "outputs": [
    {
     "data": {
      "text/plain": [
       "(101766, 53)"
      ]
     },
     "execution_count": 179,
     "metadata": {},
     "output_type": "execute_result"
    }
   ],
   "source": [
    "bd_full.shape"
   ]
  },
  {
   "cell_type": "markdown",
   "metadata": {},
   "source": [
    "*Renombramos las variables por buenas prácticas*"
   ]
  },
  {
   "cell_type": "code",
   "execution_count": 180,
   "metadata": {},
   "outputs": [],
   "source": [
    "columnsNameDiabetes = [\"encounter_id\", \"patient_nbr\", \"race\", \"gender\", \"age\", \"weight\", \"admission_type_id\", \"discharge_disposition_id\",\n",
    "                       \"admission_source_id\", \"time_in_hospital\", \"payer_code\", \"medical_specialty\", \"num_lab_procedures\", \"num_procedures\",\n",
    "                       \"num_medications\", \"number_outpatient\", \"number_emergency\", \"number_inpatient\", \"diag_1\", \"diag_2\", \"diag_3\",\n",
    "                       \"number_diagnoses\", \"max_glu_serum\", \"a1c_result\", \"metformin\", \"repaglinide\", \"nateglinide\", \"chlorpropamide\",\n",
    "                       \"glimepiride\", \"acetohexamide\", \"glipizide\", \"glyburide\", \"tolbutamide\", \"pioglitazone\", \"rosiglitazone\", \"acarbose\",\n",
    "                       \"miglitol\", \"troglitazone\", \"tolazamide\", \"examide\", \"citoglipton\", \"insulin\", \"glyburide_metformin\", \"glipizide_metformin\",\n",
    "                       \"glimepiride_pioglitazone\", \"metformin_rosiglitazone\", \"metformin_pioglitazone\", \"change\", \"diabetes_med\", \"readmitted\",\n",
    "                       \"description_x\", \"description_y\", \"description\"]"
   ]
  },
  {
   "cell_type": "code",
   "execution_count": 181,
   "metadata": {},
   "outputs": [],
   "source": [
    "bd_full.columns = columnsNameDiabetes"
   ]
  },
  {
   "cell_type": "markdown",
   "metadata": {},
   "source": [
    "**3. Analizamos la variable target**"
   ]
  },
  {
   "cell_type": "code",
   "execution_count": 15,
   "metadata": {},
   "outputs": [
    {
     "name": "stdout",
     "output_type": "stream",
     "text": [
      "Número de filas: 101766\n",
      "Número de columnas: 53\n"
     ]
    }
   ],
   "source": [
    "print(\"Número de filas: \" + str(bd_full.shape[0]))\n",
    "print(\"Número de columnas: \" + str(bd_full.shape[1]))"
   ]
  },
  {
   "cell_type": "code",
   "execution_count": 25,
   "metadata": {},
   "outputs": [],
   "source": [
    "bd_full.info()"
   ]
  },
  {
   "cell_type": "code",
   "execution_count": 20,
   "metadata": {},
   "outputs": [
    {
     "data": {
      "text/plain": [
       "readmitted\n",
       "<30    11357\n",
       ">30    35545\n",
       "NO     54864\n",
       "dtype: int64"
      ]
     },
     "execution_count": 20,
     "metadata": {},
     "output_type": "execute_result"
    }
   ],
   "source": [
    "bd_full[\"readmitted\"].describe()\n",
    "bd_full.groupby(\"readmitted\").size()"
   ]
  },
  {
   "cell_type": "code",
   "execution_count": 182,
   "metadata": {},
   "outputs": [],
   "source": [
    "columnTarget = \"target\"\n",
    "bd_full[columnTarget] = bd_full[\"readmitted\"].map({\"NO\":0,\"<30\":1,\">30\":1})"
   ]
  },
  {
   "cell_type": "code",
   "execution_count": 183,
   "metadata": {},
   "outputs": [
    {
     "data": {
      "text/plain": [
       "target\n",
       "0    0.539119\n",
       "1    0.460881\n",
       "dtype: float64"
      ]
     },
     "execution_count": 183,
     "metadata": {},
     "output_type": "execute_result"
    }
   ],
   "source": [
    "bd_full.groupby(columnTarget).size()/bd_full.shape[0]"
   ]
  },
  {
   "cell_type": "code",
   "execution_count": 184,
   "metadata": {},
   "outputs": [
    {
     "data": {
      "text/html": [
       "<div>\n",
       "<style scoped>\n",
       "    .dataframe tbody tr th:only-of-type {\n",
       "        vertical-align: middle;\n",
       "    }\n",
       "\n",
       "    .dataframe tbody tr th {\n",
       "        vertical-align: top;\n",
       "    }\n",
       "\n",
       "    .dataframe thead th {\n",
       "        text-align: right;\n",
       "    }\n",
       "</style>\n",
       "<table border=\"1\" class=\"dataframe\">\n",
       "  <thead>\n",
       "    <tr style=\"text-align: right;\">\n",
       "      <th>target</th>\n",
       "      <th>0</th>\n",
       "      <th>1</th>\n",
       "    </tr>\n",
       "    <tr>\n",
       "      <th>readmitted</th>\n",
       "      <th></th>\n",
       "      <th></th>\n",
       "    </tr>\n",
       "  </thead>\n",
       "  <tbody>\n",
       "    <tr>\n",
       "      <th>&lt;30</th>\n",
       "      <td>0</td>\n",
       "      <td>11357</td>\n",
       "    </tr>\n",
       "    <tr>\n",
       "      <th>&gt;30</th>\n",
       "      <td>0</td>\n",
       "      <td>35545</td>\n",
       "    </tr>\n",
       "    <tr>\n",
       "      <th>NO</th>\n",
       "      <td>54864</td>\n",
       "      <td>0</td>\n",
       "    </tr>\n",
       "  </tbody>\n",
       "</table>\n",
       "</div>"
      ],
      "text/plain": [
       "target          0      1\n",
       "readmitted              \n",
       "<30             0  11357\n",
       ">30             0  35545\n",
       "NO          54864      0"
      ]
     },
     "execution_count": 184,
     "metadata": {},
     "output_type": "execute_result"
    }
   ],
   "source": [
    "pd.crosstab(bd_full[\"readmitted\"],bd_full[\"target\"])"
   ]
  },
  {
   "cell_type": "markdown",
   "metadata": {},
   "source": [
    "**4. Diferenciamos los tipos de variables por buenas practicas**"
   ]
  },
  {
   "cell_type": "code",
   "execution_count": 185,
   "metadata": {},
   "outputs": [],
   "source": [
    "columnsNumeric = [\"time_in_hospital\", \"num_lab_procedures\", \"num_procedures\", \"num_medications\", \"number_outpatient\", \"number_emergency\",\n",
    "                   \"number_inpatient\", \"number_diagnoses\"]\n",
    "columnsString = [\"race\", \"gender\", \"age\", \"weight\", \"payer_code\", \"medical_specialty\", \"diag_1\", \"diag_2\", \"diag_3\",\n",
    "                   \"max_glu_serum\", \"a1c_result\", \"metformin\", \"repaglinide\", \"nateglinide\", \"chlorpropamide\", \"glimepiride\", \"acetohexamide\",\n",
    "                   \"glipizide\", \"glyburide\", \"tolbutamide\", \"pioglitazone\", \"rosiglitazone\", \"acarbose\", \"miglitol\", \"troglitazone\", \"tolazamide\",\n",
    "                   \"examide\", \"citoglipton\", \"insulin\", \"glyburide_metformin\", \"glipizide_metformin\", \"glimepiride_pioglitazone\", \"metformin_rosiglitazone\",\n",
    "                   \"metformin_pioglitazone\", \"change\", \"diabetes_med\", \"description_x\", \"description_y\", \"description\"]\n",
    "columnTarget = \"target\""
   ]
  },
  {
   "cell_type": "markdown",
   "metadata": {},
   "source": [
    "*Estudiamos las variables numericas*"
   ]
  },
  {
   "cell_type": "code",
   "execution_count": 30,
   "metadata": {},
   "outputs": [
    {
     "data": {
      "text/html": [
       "<div>\n",
       "<style scoped>\n",
       "    .dataframe tbody tr th:only-of-type {\n",
       "        vertical-align: middle;\n",
       "    }\n",
       "\n",
       "    .dataframe tbody tr th {\n",
       "        vertical-align: top;\n",
       "    }\n",
       "\n",
       "    .dataframe thead th {\n",
       "        text-align: right;\n",
       "    }\n",
       "</style>\n",
       "<table border=\"1\" class=\"dataframe\">\n",
       "  <thead>\n",
       "    <tr style=\"text-align: right;\">\n",
       "      <th></th>\n",
       "      <th>time_in_hospital</th>\n",
       "      <th>num_lab_procedures</th>\n",
       "      <th>num_procedures</th>\n",
       "      <th>num_medications</th>\n",
       "      <th>number_outpatient</th>\n",
       "      <th>number_emergency</th>\n",
       "      <th>number_inpatient</th>\n",
       "      <th>number_diagnoses</th>\n",
       "    </tr>\n",
       "  </thead>\n",
       "  <tbody>\n",
       "    <tr>\n",
       "      <th>count</th>\n",
       "      <td>101766.000000</td>\n",
       "      <td>101766.000000</td>\n",
       "      <td>101766.000000</td>\n",
       "      <td>101766.000000</td>\n",
       "      <td>101766.000000</td>\n",
       "      <td>101766.000000</td>\n",
       "      <td>101766.000000</td>\n",
       "      <td>101766.000000</td>\n",
       "    </tr>\n",
       "    <tr>\n",
       "      <th>mean</th>\n",
       "      <td>4.395987</td>\n",
       "      <td>43.095641</td>\n",
       "      <td>1.339730</td>\n",
       "      <td>16.021844</td>\n",
       "      <td>0.369357</td>\n",
       "      <td>0.197836</td>\n",
       "      <td>0.635566</td>\n",
       "      <td>7.422607</td>\n",
       "    </tr>\n",
       "    <tr>\n",
       "      <th>std</th>\n",
       "      <td>2.985108</td>\n",
       "      <td>19.674362</td>\n",
       "      <td>1.705807</td>\n",
       "      <td>8.127566</td>\n",
       "      <td>1.267265</td>\n",
       "      <td>0.930472</td>\n",
       "      <td>1.262863</td>\n",
       "      <td>1.933600</td>\n",
       "    </tr>\n",
       "    <tr>\n",
       "      <th>min</th>\n",
       "      <td>1.000000</td>\n",
       "      <td>1.000000</td>\n",
       "      <td>0.000000</td>\n",
       "      <td>1.000000</td>\n",
       "      <td>0.000000</td>\n",
       "      <td>0.000000</td>\n",
       "      <td>0.000000</td>\n",
       "      <td>1.000000</td>\n",
       "    </tr>\n",
       "    <tr>\n",
       "      <th>25%</th>\n",
       "      <td>2.000000</td>\n",
       "      <td>31.000000</td>\n",
       "      <td>0.000000</td>\n",
       "      <td>10.000000</td>\n",
       "      <td>0.000000</td>\n",
       "      <td>0.000000</td>\n",
       "      <td>0.000000</td>\n",
       "      <td>6.000000</td>\n",
       "    </tr>\n",
       "    <tr>\n",
       "      <th>50%</th>\n",
       "      <td>4.000000</td>\n",
       "      <td>44.000000</td>\n",
       "      <td>1.000000</td>\n",
       "      <td>15.000000</td>\n",
       "      <td>0.000000</td>\n",
       "      <td>0.000000</td>\n",
       "      <td>0.000000</td>\n",
       "      <td>8.000000</td>\n",
       "    </tr>\n",
       "    <tr>\n",
       "      <th>75%</th>\n",
       "      <td>6.000000</td>\n",
       "      <td>57.000000</td>\n",
       "      <td>2.000000</td>\n",
       "      <td>20.000000</td>\n",
       "      <td>0.000000</td>\n",
       "      <td>0.000000</td>\n",
       "      <td>1.000000</td>\n",
       "      <td>9.000000</td>\n",
       "    </tr>\n",
       "    <tr>\n",
       "      <th>max</th>\n",
       "      <td>14.000000</td>\n",
       "      <td>132.000000</td>\n",
       "      <td>6.000000</td>\n",
       "      <td>81.000000</td>\n",
       "      <td>42.000000</td>\n",
       "      <td>76.000000</td>\n",
       "      <td>21.000000</td>\n",
       "      <td>16.000000</td>\n",
       "    </tr>\n",
       "  </tbody>\n",
       "</table>\n",
       "</div>"
      ],
      "text/plain": [
       "       time_in_hospital  num_lab_procedures  num_procedures  num_medications  \\\n",
       "count     101766.000000       101766.000000   101766.000000    101766.000000   \n",
       "mean           4.395987           43.095641        1.339730        16.021844   \n",
       "std            2.985108           19.674362        1.705807         8.127566   \n",
       "min            1.000000            1.000000        0.000000         1.000000   \n",
       "25%            2.000000           31.000000        0.000000        10.000000   \n",
       "50%            4.000000           44.000000        1.000000        15.000000   \n",
       "75%            6.000000           57.000000        2.000000        20.000000   \n",
       "max           14.000000          132.000000        6.000000        81.000000   \n",
       "\n",
       "       number_outpatient  number_emergency  number_inpatient  number_diagnoses  \n",
       "count      101766.000000     101766.000000     101766.000000     101766.000000  \n",
       "mean            0.369357          0.197836          0.635566          7.422607  \n",
       "std             1.267265          0.930472          1.262863          1.933600  \n",
       "min             0.000000          0.000000          0.000000          1.000000  \n",
       "25%             0.000000          0.000000          0.000000          6.000000  \n",
       "50%             0.000000          0.000000          0.000000          8.000000  \n",
       "75%             0.000000          0.000000          1.000000          9.000000  \n",
       "max            42.000000         76.000000         21.000000         16.000000  "
      ]
     },
     "execution_count": 30,
     "metadata": {},
     "output_type": "execute_result"
    }
   ],
   "source": [
    "bd_full[columnsNumeric].describe()"
   ]
  },
  {
   "cell_type": "markdown",
   "metadata": {},
   "source": [
    "*analizamos las varianzas mas cercanas a cero*"
   ]
  },
  {
   "cell_type": "code",
   "execution_count": 31,
   "metadata": {},
   "outputs": [
    {
     "data": {
      "text/plain": [
       "num_lab_procedures    387.080530\n",
       "num_medications        66.057332\n",
       "time_in_hospital        8.910868\n",
       "number_diagnoses        3.738810\n",
       "num_procedures          2.909777\n",
       "number_outpatient       1.605961\n",
       "number_inpatient        1.594824\n",
       "number_emergency        0.865779\n",
       "dtype: float64"
      ]
     },
     "execution_count": 31,
     "metadata": {},
     "output_type": "execute_result"
    }
   ],
   "source": [
    "bd_full[columnsNumeric].var().sort_values(ascending = False)"
   ]
  },
  {
   "cell_type": "markdown",
   "metadata": {},
   "source": [
    "*Hacemos un analisis de frecuencia a la variable: number_emergency porqeu tiene la varianza mas pequeña*"
   ]
  },
  {
   "cell_type": "code",
   "execution_count": 187,
   "metadata": {},
   "outputs": [],
   "source": [
    "bd_full.groupby(\"number_emergency\").size()/bd_full[\"number_emergency\"].shape[0]"
   ]
  },
  {
   "cell_type": "markdown",
   "metadata": {},
   "source": [
    "*Revisamos las frecuencias de las variables numéricas*"
   ]
  },
  {
   "cell_type": "code",
   "execution_count": 36,
   "metadata": {},
   "outputs": [
    {
     "data": {
      "text/plain": [
       "array([[<matplotlib.axes._subplots.AxesSubplot object at 0x000000000BE3B898>,\n",
       "        <matplotlib.axes._subplots.AxesSubplot object at 0x00000000125988D0>,\n",
       "        <matplotlib.axes._subplots.AxesSubplot object at 0x00000000125C1B00>],\n",
       "       [<matplotlib.axes._subplots.AxesSubplot object at 0x00000000125EAD68>,\n",
       "        <matplotlib.axes._subplots.AxesSubplot object at 0x0000000012614FD0>,\n",
       "        <matplotlib.axes._subplots.AxesSubplot object at 0x0000000012644278>],\n",
       "       [<matplotlib.axes._subplots.AxesSubplot object at 0x0000000013EEC4E0>,\n",
       "        <matplotlib.axes._subplots.AxesSubplot object at 0x0000000013F16780>,\n",
       "        <matplotlib.axes._subplots.AxesSubplot object at 0x0000000013F167B8>]],\n",
       "      dtype=object)"
      ]
     },
     "execution_count": 36,
     "metadata": {},
     "output_type": "execute_result"
    },
    {
     "data": {
      "image/png": "[encoded data removed]",
      "text/plain": [
       "<Figure size 432x288 with 9 Axes>"
      ]
     },
     "metadata": {
      "needs_background": "light"
     },
     "output_type": "display_data"
    }
   ],
   "source": [
    "bd_full[columnsNumeric].hist(bins = 50)"
   ]
  },
  {
   "cell_type": "code",
   "execution_count": 49,
   "metadata": {},
   "outputs": [],
   "source": [
    "def frecuencia (x):\n",
    "    frec = bd_full.groupby(x).size()/bd_full[x].shape[0]\n",
    "    print(frec)\n",
    "    print(\"\\n\")"
   ]
  },
  {
   "cell_type": "markdown",
   "metadata": {},
   "source": [
    "*A las variables \"number_outpatient\", \"number_emergency\" y \"number_inpatient\" hacemos un analisis de frecuencia*"
   ]
  },
  {
   "cell_type": "code",
   "execution_count": 50,
   "metadata": {},
   "outputs": [
    {
     "name": "stdout",
     "output_type": "stream",
     "text": [
      "number_outpatient\n",
      "0     0.835515\n",
      "1     0.083987\n",
      "2     0.035316\n",
      "3     0.020066\n",
      "4     0.010799\n",
      "5     0.005238\n",
      "6     0.002977\n",
      "7     0.001523\n",
      "8     0.000963\n",
      "9     0.000816\n",
      "10    0.000560\n",
      "11    0.000413\n",
      "12    0.000295\n",
      "13    0.000305\n",
      "14    0.000275\n",
      "15    0.000197\n",
      "16    0.000147\n",
      "17    0.000079\n",
      "18    0.000049\n",
      "19    0.000029\n",
      "20    0.000069\n",
      "21    0.000069\n",
      "22    0.000049\n",
      "23    0.000020\n",
      "24    0.000029\n",
      "25    0.000020\n",
      "26    0.000020\n",
      "27    0.000029\n",
      "28    0.000010\n",
      "29    0.000020\n",
      "33    0.000020\n",
      "34    0.000010\n",
      "35    0.000020\n",
      "36    0.000020\n",
      "37    0.000010\n",
      "38    0.000010\n",
      "39    0.000010\n",
      "40    0.000010\n",
      "42    0.000010\n",
      "dtype: float64\n",
      "\n",
      "\n",
      "None\n",
      "number_emergency\n",
      "0     0.888145\n",
      "1     0.075438\n",
      "2     0.020066\n",
      "3     0.007124\n",
      "4     0.003675\n",
      "5     0.001887\n",
      "6     0.000924\n",
      "7     0.000717\n",
      "8     0.000491\n",
      "9     0.000324\n",
      "10    0.000334\n",
      "11    0.000226\n",
      "12    0.000098\n",
      "13    0.000118\n",
      "14    0.000029\n",
      "15    0.000029\n",
      "16    0.000049\n",
      "18    0.000049\n",
      "19    0.000039\n",
      "20    0.000039\n",
      "21    0.000020\n",
      "22    0.000059\n",
      "24    0.000010\n",
      "25    0.000020\n",
      "28    0.000010\n",
      "29    0.000010\n",
      "37    0.000010\n",
      "42    0.000010\n",
      "46    0.000010\n",
      "54    0.000010\n",
      "63    0.000010\n",
      "64    0.000010\n",
      "76    0.000010\n",
      "dtype: float64\n",
      "\n",
      "\n",
      "None\n",
      "number_inpatient\n",
      "0     0.664564\n",
      "1     0.191822\n",
      "2     0.074347\n",
      "3     0.033518\n",
      "4     0.015939\n",
      "5     0.007979\n",
      "6     0.004717\n",
      "7     0.002633\n",
      "8     0.001484\n",
      "9     0.001091\n",
      "10    0.000599\n",
      "11    0.000481\n",
      "12    0.000334\n",
      "13    0.000197\n",
      "14    0.000098\n",
      "15    0.000088\n",
      "16    0.000059\n",
      "17    0.000010\n",
      "18    0.000010\n",
      "19    0.000020\n",
      "21    0.000010\n",
      "dtype: float64\n",
      "\n",
      "\n",
      "None\n"
     ]
    }
   ],
   "source": [
    "print(frecuencia(\"number_outpatient\"))\n",
    "print(frecuencia(\"number_emergency\"))\n",
    "print(frecuencia(\"number_inpatient\"))"
   ]
  },
  {
   "cell_type": "markdown",
   "metadata": {},
   "source": [
    "*Viendo presencia de valores perdidos*"
   ]
  },
  {
   "cell_type": "code",
   "execution_count": 188,
   "metadata": {},
   "outputs": [
    {
     "name": "stdout",
     "output_type": "stream",
     "text": [
      "time_in_hospital\n",
      "0\n",
      "\n",
      "\n",
      "num_lab_procedures\n",
      "0\n",
      "\n",
      "\n",
      "num_procedures\n",
      "0\n",
      "\n",
      "\n",
      "num_medications\n",
      "0\n",
      "\n",
      "\n",
      "number_outpatient\n",
      "0\n",
      "\n",
      "\n",
      "number_emergency\n",
      "0\n",
      "\n",
      "\n",
      "number_inpatient\n",
      "0\n",
      "\n",
      "\n",
      "number_diagnoses\n",
      "0\n",
      "\n",
      "\n"
     ]
    }
   ],
   "source": [
    "for x in columnsNumeric:\n",
    "    print(x)\n",
    "    print(bd_full.loc[(pd.isna(bd_full[x]))].shape[0])\n",
    "    print(\"\\n\")"
   ]
  },
  {
   "cell_type": "markdown",
   "metadata": {},
   "source": [
    "*Viendo presencia de atípicos*"
   ]
  },
  {
   "cell_type": "code",
   "execution_count": 58,
   "metadata": {},
   "outputs": [
    {
     "data": {
      "text/plain": [
       "{'whiskers': [<matplotlib.lines.Line2D at 0x148acd68>,\n",
       "  <matplotlib.lines.Line2D at 0x148ace48>],\n",
       " 'caps': [<matplotlib.lines.Line2D at 0x148b7438>,\n",
       "  <matplotlib.lines.Line2D at 0x148b7780>],\n",
       " 'boxes': [<matplotlib.lines.Line2D at 0x148ac978>],\n",
       " 'medians': [<matplotlib.lines.Line2D at 0x148b7ac8>],\n",
       " 'fliers': [<matplotlib.lines.Line2D at 0x148b7e10>],\n",
       " 'means': []}"
      ]
     },
     "execution_count": 58,
     "metadata": {},
     "output_type": "execute_result"
    },
    {
     "data": {
      "image/png": "[encoded data removed]",
      "text/plain": [
       "<Figure size 432x288 with 1 Axes>"
      ]
     },
     "metadata": {
      "needs_background": "light"
     },
     "output_type": "display_data"
    }
   ],
   "source": [
    "plt.boxplot(bd_full[\"time_in_hospital\"] , 0, 'gD')"
   ]
  },
  {
   "cell_type": "code",
   "execution_count": 60,
   "metadata": {},
   "outputs": [],
   "source": [
    "for x in bd_full[columnsNumeric].columns:\n",
    "    plt.title(x)\n",
    "    plt.boxplot(bd_full[x] , 0, 'gD')\n",
    "    plt.show()"
   ]
  },
  {
   "cell_type": "code",
   "execution_count": 189,
   "metadata": {},
   "outputs": [],
   "source": [
    "# Función de Identificar Outliers:\n",
    "def calcularOutliars(x):\n",
    "  Q01 = x.quantile(0.25)\n",
    "  Q03 = x.quantile(0.75)\n",
    "  IQR = Q03 - Q01\n",
    "  a = (x < (Q01 - 1.5 * IQR)) | (x > (Q03 + 1.5 * IQR))\n",
    "  numOutliars = a[a == True].shape[0]\n",
    "  pornumOutliars = numOutliars/x.shape[0]\n",
    "  return pornumOutliars"
   ]
  },
  {
   "cell_type": "code",
   "execution_count": 67,
   "metadata": {},
   "outputs": [
    {
     "data": {
      "text/plain": [
       "0.022129198357015115"
      ]
     },
     "execution_count": 67,
     "metadata": {},
     "output_type": "execute_result"
    }
   ],
   "source": [
    "calcularOutliars(bd_full[\"time_in_hospital\"])"
   ]
  },
  {
   "cell_type": "code",
   "execution_count": 190,
   "metadata": {},
   "outputs": [
    {
     "name": "stdout",
     "output_type": "stream",
     "text": [
      "time_in_hospital\n",
      "0.022129198357015115\n",
      "\n",
      "\n",
      "num_lab_procedures\n",
      "0.0014051844427411906\n",
      "\n",
      "\n",
      "num_procedures\n",
      "0.04868030579957943\n",
      "\n",
      "\n",
      "num_medications\n",
      "0.025126270070554017\n",
      "\n",
      "\n",
      "number_outpatient\n",
      "0.16448519151779573\n",
      "\n",
      "\n",
      "number_emergency\n",
      "0.11185464693512569\n",
      "\n",
      "\n",
      "number_inpatient\n",
      "0.0692667492089696\n",
      "\n",
      "\n",
      "number_diagnoses\n",
      "0.0027612365623096123\n",
      "\n",
      "\n"
     ]
    }
   ],
   "source": [
    "for x in columnsNumeric:\n",
    "    print(x)\n",
    "    print(calcularOutliars(bd_full[x]))\n",
    "    print(\"\\n\")"
   ]
  },
  {
   "cell_type": "code",
   "execution_count": 191,
   "metadata": {},
   "outputs": [],
   "source": [
    "#Imputamos los valores outliers en nuevas variables\n",
    "#==================================================\n",
    "#creamos la función de reemplazo de outliers\n",
    "def fun_rep(num): \n",
    "    if num > LS: \n",
    "        return LS\n",
    "    elif num < LI and num > 0: \n",
    "        return LI\n",
    "    else: \n",
    "        return num"
   ]
  },
  {
   "cell_type": "code",
   "execution_count": 192,
   "metadata": {},
   "outputs": [],
   "source": [
    "#Variable number_diagnoses\n",
    "Q01 = bd_full[\"number_diagnoses\"].quantile(0.25)\n",
    "Q03 = bd_full[\"number_diagnoses\"].quantile(0.75)\n",
    "IQR = Q03 - Q01\n",
    "LS = Q03 + 1.5 * IQR\n",
    "LI = Q01 - 1.5 * IQR\n",
    "\n",
    "bd_full[\"number_diagnoses_imp\"] = bd_full[\"number_diagnoses\"].apply(fun_rep)"
   ]
  },
  {
   "cell_type": "code",
   "execution_count": 193,
   "metadata": {},
   "outputs": [],
   "source": [
    "#Variable num_lab_procedures\n",
    "Q01 = bd_full[\"num_lab_procedures\"].quantile(0.25)\n",
    "Q03 = bd_full[\"num_lab_procedures\"].quantile(0.75)\n",
    "IQR = Q03 - Q01\n",
    "LS = Q03 + 1.5 * IQR\n",
    "LI = Q01 - 1.5 * IQR\n",
    "\n",
    "bd_full[\"num_lab_procedures_imp\"] = bd_full[\"num_lab_procedures\"].apply(fun_rep)"
   ]
  },
  {
   "cell_type": "code",
   "execution_count": 194,
   "metadata": {},
   "outputs": [
    {
     "data": {
      "text/plain": [
       "{'whiskers': [<matplotlib.lines.Line2D at 0x58f4a90>,\n",
       "  <matplotlib.lines.Line2D at 0x58f4be0>],\n",
       " 'caps': [<matplotlib.lines.Line2D at 0x58f4ac8>,\n",
       "  <matplotlib.lines.Line2D at 0x58f4828>],\n",
       " 'boxes': [<matplotlib.lines.Line2D at 0x58f4710>],\n",
       " 'medians': [<matplotlib.lines.Line2D at 0x58f3400>],\n",
       " 'fliers': [<matplotlib.lines.Line2D at 0x58f3128>],\n",
       " 'means': []}"
      ]
     },
     "execution_count": 194,
     "metadata": {},
     "output_type": "execute_result"
    },
    {
     "data": {
      "image/png": "[encoded data removed]",
      "text/plain": [
       "<Figure size 432x288 with 2 Axes>"
      ]
     },
     "metadata": {
      "needs_background": "light"
     },
     "output_type": "display_data"
    }
   ],
   "source": [
    "plt.figure()\n",
    "\n",
    "plt.subplot(2,2,1)\n",
    "plt.boxplot(bd_full[\"number_diagnoses\"] , 0, 'gD')\n",
    "\n",
    "plt.subplot(2,2,2)\n",
    "plt.boxplot(bd_full[\"number_diagnoses_imp\"] , 0, 'gD')"
   ]
  },
  {
   "cell_type": "code",
   "execution_count": 147,
   "metadata": {
    "scrolled": true
   },
   "outputs": [],
   "source": [
    "bd_full[columnsNumeric].dtypes"
   ]
  },
  {
   "cell_type": "code",
   "execution_count": 195,
   "metadata": {},
   "outputs": [],
   "source": [
    "#Retiramos variables numéricas\n",
    "columnsNumeric.remove('number_diagnoses')\n",
    "columnsNumeric.remove('num_lab_procedures')"
   ]
  },
  {
   "cell_type": "code",
   "execution_count": 196,
   "metadata": {},
   "outputs": [],
   "source": [
    "#Aderimos las nuevas variables numéricas\n",
    "columnsNumeric = columnsNumeric + [\"number_diagnoses_imp\"] + [\"num_lab_procedures_imp\"]"
   ]
  },
  {
   "cell_type": "markdown",
   "metadata": {},
   "source": [
    "*Observamos que se acumulan en 0 pero no en un 90% (no en la gran mayoria), lo tendremos en cuenta en la exploración de datos para descartarlas de ser necesario con más evidencia (mean encoding)*"
   ]
  },
  {
   "cell_type": "markdown",
   "metadata": {},
   "source": [
    "**Para las variables categoricas vemos sus distribuciones**"
   ]
  },
  {
   "cell_type": "code",
   "execution_count": 104,
   "metadata": {},
   "outputs": [
    {
     "name": "stdout",
     "output_type": "stream",
     "text": [
      "race\n",
      "race\n",
      "AfricanAmerican    19210\n",
      "Asian                641\n",
      "Caucasian          76099\n",
      "Hispanic            2037\n",
      "Other               1506\n",
      "dtype: int64\n",
      "\n",
      "\n",
      "gender\n",
      "gender\n",
      "Female    54708\n",
      "Male      47055\n",
      "dtype: int64\n",
      "\n",
      "\n",
      "age\n",
      "age\n",
      "[0-10)        161\n",
      "[10-20)       691\n",
      "[20-30)      1657\n",
      "[30-40)      3775\n",
      "[40-50)      9685\n",
      "[50-60)     17256\n",
      "[60-70)     22483\n",
      "[70-80)     26068\n",
      "[80-90)     17197\n",
      "[90-100)     2793\n",
      "dtype: int64\n",
      "\n",
      "\n",
      "max_glu_serum\n",
      "max_glu_serum\n",
      ">200     1485\n",
      ">300     1264\n",
      "None    96420\n",
      "Norm     2597\n",
      "dtype: int64\n",
      "\n",
      "\n",
      "a1c_result\n",
      "a1c_result\n",
      ">7       3812\n",
      ">8       8216\n",
      "None    84748\n",
      "Norm     4990\n",
      "dtype: int64\n",
      "\n",
      "\n",
      "metformin\n",
      "metformin\n",
      "Down        575\n",
      "No        81778\n",
      "Steady    18346\n",
      "Up         1067\n",
      "dtype: int64\n",
      "\n",
      "\n",
      "repaglinide\n",
      "repaglinide\n",
      "Down          45\n",
      "No        100227\n",
      "Steady      1384\n",
      "Up           110\n",
      "dtype: int64\n",
      "\n",
      "\n",
      "nateglinide\n",
      "nateglinide\n",
      "Down          11\n",
      "No        101063\n",
      "Steady       668\n",
      "Up            24\n",
      "dtype: int64\n",
      "\n",
      "\n",
      "chlorpropamide\n",
      "chlorpropamide\n",
      "Down           1\n",
      "No        101680\n",
      "Steady        79\n",
      "Up             6\n",
      "dtype: int64\n",
      "\n",
      "\n",
      "glimepiride\n",
      "glimepiride\n",
      "Down        194\n",
      "No        96575\n",
      "Steady     4670\n",
      "Up          327\n",
      "dtype: int64\n",
      "\n",
      "\n",
      "acetohexamide\n",
      "acetohexamide\n",
      "No        101765\n",
      "Steady         1\n",
      "dtype: int64\n",
      "\n",
      "\n",
      "glipizide\n",
      "glipizide\n",
      "Down        560\n",
      "No        89080\n",
      "Steady    11356\n",
      "Up          770\n",
      "dtype: int64\n",
      "\n",
      "\n",
      "glyburide\n",
      "glyburide\n",
      "Down        564\n",
      "No        91116\n",
      "Steady     9274\n",
      "Up          812\n",
      "dtype: int64\n",
      "\n",
      "\n",
      "tolbutamide\n",
      "tolbutamide\n",
      "No        101743\n",
      "Steady        23\n",
      "dtype: int64\n",
      "\n",
      "\n",
      "pioglitazone\n",
      "pioglitazone\n",
      "Down        118\n",
      "No        94438\n",
      "Steady     6976\n",
      "Up          234\n",
      "dtype: int64\n",
      "\n",
      "\n",
      "rosiglitazone\n",
      "rosiglitazone\n",
      "Down         87\n",
      "No        95401\n",
      "Steady     6100\n",
      "Up          178\n",
      "dtype: int64\n",
      "\n",
      "\n",
      "acarbose\n",
      "acarbose\n",
      "Down           3\n",
      "No        101458\n",
      "Steady       295\n",
      "Up            10\n",
      "dtype: int64\n",
      "\n",
      "\n",
      "miglitol\n",
      "miglitol\n",
      "Down           5\n",
      "No        101728\n",
      "Steady        31\n",
      "Up             2\n",
      "dtype: int64\n",
      "\n",
      "\n",
      "troglitazone\n",
      "troglitazone\n",
      "No        101763\n",
      "Steady         3\n",
      "dtype: int64\n",
      "\n",
      "\n",
      "tolazamide\n",
      "tolazamide\n",
      "No        101727\n",
      "Steady        38\n",
      "Up             1\n",
      "dtype: int64\n",
      "\n",
      "\n",
      "examide\n",
      "examide\n",
      "No    101766\n",
      "dtype: int64\n",
      "\n",
      "\n",
      "citoglipton\n",
      "citoglipton\n",
      "No    101766\n",
      "dtype: int64\n",
      "\n",
      "\n",
      "insulin\n",
      "insulin\n",
      "Down      12218\n",
      "No        47383\n",
      "Steady    30849\n",
      "Up        11316\n",
      "dtype: int64\n",
      "\n",
      "\n",
      "glyburide_metformin\n",
      "glyburide_metformin\n",
      "Down           6\n",
      "No        101060\n",
      "Steady       692\n",
      "Up             8\n",
      "dtype: int64\n",
      "\n",
      "\n",
      "glipizide_metformin\n",
      "glipizide_metformin\n",
      "No        101753\n",
      "Steady        13\n",
      "dtype: int64\n",
      "\n",
      "\n",
      "glimepiride_pioglitazone\n",
      "glimepiride_pioglitazone\n",
      "No        101765\n",
      "Steady         1\n",
      "dtype: int64\n",
      "\n",
      "\n",
      "metformin_rosiglitazone\n",
      "metformin_rosiglitazone\n",
      "No        101764\n",
      "Steady         2\n",
      "dtype: int64\n",
      "\n",
      "\n",
      "metformin_pioglitazone\n",
      "metformin_pioglitazone\n",
      "No        101765\n",
      "Steady         1\n",
      "dtype: int64\n",
      "\n",
      "\n",
      "change\n",
      "change\n",
      "Ch    47011\n",
      "No    54755\n",
      "dtype: int64\n",
      "\n",
      "\n",
      "diabetes_med\n",
      "diabetes_med\n",
      "No     23403\n",
      "Yes    78363\n",
      "dtype: int64\n",
      "\n",
      "\n",
      "description_x\n",
      "description_x\n",
      " Court/Law Enforcement                                           16\n",
      " Emergency Room                                               57494\n",
      " Extramural Birth                                                 2\n",
      " Not Available                                                  125\n",
      " Not Mapped                                                     161\n",
      " Physician Referral                                           29565\n",
      " Sick Baby                                                        1\n",
      " Transfer from Ambulatory Surgery Center                          2\n",
      " Transfer from a Skilled Nursing Facility (SNF)                 855\n",
      " Transfer from another health care facility                    2264\n",
      " Transfer from critial access hospital                            8\n",
      " Transfer from hospital inpt/same fac reslt in a sep claim       12\n",
      "Clinic Referral                                                1104\n",
      "HMO Referral                                                    187\n",
      "None                                                           6781\n",
      "Normal Delivery                                                   2\n",
      "Transfer from a hospital                                       3187\n",
      "dtype: int64\n",
      "\n",
      "\n",
      "description_y\n",
      "description_y\n",
      "Elective         18869\n",
      "Emergency        53990\n",
      "Newborn             10\n",
      "None              5291\n",
      "Not Available     4785\n",
      "Not Mapped         320\n",
      "Trauma Center       21\n",
      "Urgent           18480\n",
      "dtype: int64\n",
      "\n",
      "\n",
      "description\n",
      "description\n",
      "Admitted as an inpatient to this hospital                                                                       21\n",
      "Discharged to home                                                                                           60234\n",
      "Discharged/transferred to ICF                                                                                  815\n",
      "Discharged/transferred to SNF                                                                                13954\n",
      "Discharged/transferred to a federal health care facility.                                                        5\n",
      "Discharged/transferred to a long term care hospital.                                                           412\n",
      "Discharged/transferred to a nursing facility certified under Medicaid but not certified under Medicare.         48\n",
      "Discharged/transferred to another rehab fac including rehab units of a hospital .                             1993\n",
      "Discharged/transferred to another short term hospital                                                         2128\n",
      "Discharged/transferred to another type of inpatient care institution                                          1184\n",
      "Discharged/transferred to home under care of Home IV provider                                                  108\n",
      "Discharged/transferred to home with home health service                                                      12902\n",
      "Discharged/transferred within this institution to Medicare approved swing bed                                   63\n",
      "Discharged/transferred/referred another institution for outpatient services                                     11\n",
      "Discharged/transferred/referred to a psychiatric hospital of psychiatric distinct part unit of a hospital      139\n",
      "Discharged/transferred/referred to this institution for outpatient services                                     14\n",
      "Expired                                                                                                       1642\n",
      "Expired at home. Medicaid only, hospice.                                                                         8\n",
      "Expired in a medical facility. Medicaid only, hospice.                                                           2\n",
      "Hospice / home                                                                                                 399\n",
      "Hospice / medical facility                                                                                     372\n",
      "Left AMA                                                                                                       623\n",
      "Neonate discharged to another hospital for neonatal aftercare                                                    6\n",
      "None                                                                                                          3691\n",
      "Not Mapped                                                                                                     989\n",
      "Still patient or expected to return for outpatient services                                                      3\n",
      "dtype: int64\n",
      "\n",
      "\n"
     ]
    }
   ],
   "source": [
    "#Corregimos las variables que no están definidas de forma correcta como NaN (nan)\n",
    "for x in columnsString:\n",
    "    print(x)\n",
    "    print(bd_full.groupby(x).size())\n",
    "    print(\"\\n\")"
   ]
  },
  {
   "cell_type": "code",
   "execution_count": 197,
   "metadata": {},
   "outputs": [],
   "source": [
    "#Reemplazamos los valores extraños\n",
    "bd_full[\"race\"] = bd_full[\"race\"].replace(\"?\",np.nan)\n",
    "bd_full[\"gender\"] = bd_full[\"gender\"].replace(\"Unknown/Invalid\",np.nan)\n",
    "bd_full[\"weight\"] = bd_full[\"weight\"].replace(\"?\",np.nan)\n",
    "bd_full[\"payer_code\"] = bd_full[\"payer_code\"].replace(\"?\",np.nan)\n",
    "bd_full[\"medical_specialty\"] = bd_full[\"medical_specialty\"].replace(\"?\",np.nan)\n",
    "bd_full[\"medical_specialty\"] = bd_full[\"medical_specialty\"].replace(\"?\",np.nan)"
   ]
  },
  {
   "cell_type": "code",
   "execution_count": 198,
   "metadata": {},
   "outputs": [
    {
     "name": "stdout",
     "output_type": "stream",
     "text": [
      "race\n",
      "0.022335554114340742\n",
      "\n",
      "\n",
      "gender\n",
      "2.947939390366134e-05\n",
      "\n",
      "\n",
      "age\n",
      "0.0\n",
      "\n",
      "\n",
      "weight\n",
      "0.9685847925633315\n",
      "\n",
      "\n",
      "payer_code\n",
      "0.395574160328597\n",
      "\n",
      "\n",
      "medical_specialty\n",
      "0.49082208203132677\n",
      "\n",
      "\n",
      "diag_1\n",
      "0.0\n",
      "\n",
      "\n",
      "diag_2\n",
      "0.0\n",
      "\n",
      "\n",
      "diag_3\n",
      "0.0\n",
      "\n",
      "\n",
      "max_glu_serum\n",
      "0.0\n",
      "\n",
      "\n",
      "a1c_result\n",
      "0.0\n",
      "\n",
      "\n",
      "metformin\n",
      "0.0\n",
      "\n",
      "\n",
      "repaglinide\n",
      "0.0\n",
      "\n",
      "\n",
      "nateglinide\n",
      "0.0\n",
      "\n",
      "\n",
      "chlorpropamide\n",
      "0.0\n",
      "\n",
      "\n",
      "glimepiride\n",
      "0.0\n",
      "\n",
      "\n",
      "acetohexamide\n",
      "0.0\n",
      "\n",
      "\n",
      "glipizide\n",
      "0.0\n",
      "\n",
      "\n",
      "glyburide\n",
      "0.0\n",
      "\n",
      "\n",
      "tolbutamide\n",
      "0.0\n",
      "\n",
      "\n",
      "pioglitazone\n",
      "0.0\n",
      "\n",
      "\n",
      "rosiglitazone\n",
      "0.0\n",
      "\n",
      "\n",
      "acarbose\n",
      "0.0\n",
      "\n",
      "\n",
      "miglitol\n",
      "0.0\n",
      "\n",
      "\n",
      "troglitazone\n",
      "0.0\n",
      "\n",
      "\n",
      "tolazamide\n",
      "0.0\n",
      "\n",
      "\n",
      "examide\n",
      "0.0\n",
      "\n",
      "\n",
      "citoglipton\n",
      "0.0\n",
      "\n",
      "\n",
      "insulin\n",
      "0.0\n",
      "\n",
      "\n",
      "glyburide_metformin\n",
      "0.0\n",
      "\n",
      "\n",
      "glipizide_metformin\n",
      "0.0\n",
      "\n",
      "\n",
      "glimepiride_pioglitazone\n",
      "0.0\n",
      "\n",
      "\n",
      "metformin_rosiglitazone\n",
      "0.0\n",
      "\n",
      "\n",
      "metformin_pioglitazone\n",
      "0.0\n",
      "\n",
      "\n",
      "change\n",
      "0.0\n",
      "\n",
      "\n",
      "diabetes_med\n",
      "0.0\n",
      "\n",
      "\n",
      "description_x\n",
      "0.0\n",
      "\n",
      "\n",
      "description_y\n",
      "0.0\n",
      "\n",
      "\n",
      "description\n",
      "0.0\n",
      "\n",
      "\n"
     ]
    }
   ],
   "source": [
    "#Viendo presencia de valores perdidos\n",
    "for x in columnsString:\n",
    "    print(x)\n",
    "    print(bd_full.loc[(pd.isna(bd_full[x]))].shape[0]/bd_full[x].shape[0])\n",
    "    print(\"\\n\")"
   ]
  },
  {
   "cell_type": "code",
   "execution_count": 200,
   "metadata": {},
   "outputs": [],
   "source": [
    "#Retiramos las variables con muchos NAs\n",
    "columnsString.remove('weight')\n",
    "columnsString.remove('payer_code')\n",
    "columnsString.remove('medical_specialty')\n",
    "\n",
    "bd_full = bd_full.drop(['weight'],axis = 1)\n",
    "bd_full = bd_full.drop(['payer_code'],axis = 1)\n",
    "bd_full = bd_full.drop(['medical_specialty'],axis = 1)"
   ]
  },
  {
   "cell_type": "code",
   "execution_count": 202,
   "metadata": {},
   "outputs": [],
   "source": [
    "#Como el porcentaje de nan es menor al 1% eliminamos los casos perdidos para un mejor ajuste\n",
    "bd_full =  bd_full.dropna()"
   ]
  },
  {
   "cell_type": "code",
   "execution_count": 99,
   "metadata": {},
   "outputs": [
    {
     "data": {
      "image/png": "[encoded data removed]",
      "text/plain": [
       "<Figure size 432x288 with 1 Axes>"
      ]
     },
     "metadata": {
      "needs_background": "light"
     },
     "output_type": "display_data"
    },
    {
     "data": {
      "image/png": "[encoded data removed]",
      "text/plain": [
       "<Figure size 432x288 with 1 Axes>"
      ]
     },
     "metadata": {
      "needs_background": "light"
     },
     "output_type": "display_data"
    },
    {
     "data": {
      "image/png": "[encoded data removed]",
      "text/plain": [
       "<Figure size 432x288 with 1 Axes>"
      ]
     },
     "metadata": {
      "needs_background": "light"
     },
     "output_type": "display_data"
    },
    {
     "data": {
      "image/png": "[encoded data removed]",
      "text/plain": [
       "<Figure size 432x288 with 1 Axes>"
      ]
     },
     "metadata": {
      "needs_background": "light"
     },
     "output_type": "display_data"
    },
    {
     "data": {
      "image/png": "[encoded data removed]",
      "text/plain": [
       "<Figure size 432x288 with 1 Axes>"
      ]
     },
     "metadata": {
      "needs_background": "light"
     },
     "output_type": "display_data"
    },
    {
     "data": {
      "image/png": "[encoded data removed]",
      "text/plain": [
       "<Figure size 432x288 with 1 Axes>"
      ]
     },
     "metadata": {
      "needs_background": "light"
     },
     "output_type": "display_data"
    },
    {
     "data": {
      "image/png": "[encoded data removed]",
      "text/plain": [
       "<Figure size 432x288 with 1 Axes>"
      ]
     },
     "metadata": {
      "needs_background": "light"
     },
     "output_type": "display_data"
    },
    {
     "data": {
      "image/png": "[encoded data removed]",
      "text/plain": [
       "<Figure size 432x288 with 1 Axes>"
      ]
     },
     "metadata": {
      "needs_background": "light"
     },
     "output_type": "display_data"
    },
    {
     "data": {
      "image/png": "[encoded data removed]",
      "text/plain": [
       "<Figure size 432x288 with 1 Axes>"
      ]
     },
     "metadata": {
      "needs_background": "light"
     },
     "output_type": "display_data"
    },
    {
     "data": {
      "image/png": "[encoded data removed]",
      "text/plain": [
       "<Figure size 432x288 with 1 Axes>"
      ]
     },
     "metadata": {
      "needs_background": "light"
     },
     "output_type": "display_data"
    },
    {
     "data": {
      "image/png": "[encoded data removed]",
      "text/plain": [
       "<Figure size 432x288 with 1 Axes>"
      ]
     },
     "metadata": {
      "needs_background": "light"
     },
     "output_type": "display_data"
    },
    {
     "data": {
      "image/png": "[encoded data removed]",
      "text/plain": [
       "<Figure size 432x288 with 1 Axes>"
      ]
     },
     "metadata": {
      "needs_background": "light"
     },
     "output_type": "display_data"
    },
    {
     "data": {
      "image/png": "[encoded data removed]",
      "text/plain": [
       "<Figure size 432x288 with 1 Axes>"
      ]
     },
     "metadata": {
      "needs_background": "light"
     },
     "output_type": "display_data"
    },
    {
     "data": {
      "image/png": "[encoded data removed]",
      "text/plain": [
       "<Figure size 432x288 with 1 Axes>"
      ]
     },
     "metadata": {
      "needs_background": "light"
     },
     "output_type": "display_data"
    },
    {
     "data": {
      "image/png": "[encoded data removed]",
      "text/plain": [
       "<Figure size 432x288 with 1 Axes>"
      ]
     },
     "metadata": {
      "needs_background": "light"
     },
     "output_type": "display_data"
    },
    {
     "data": {
      "image/png": "[encoded data removed]",
      "text/plain": [
       "<Figure size 432x288 with 1 Axes>"
      ]
     },
     "metadata": {
      "needs_background": "light"
     },
     "output_type": "display_data"
    },
    {
     "data": {
      "image/png": "[encoded data removed]",
      "text/plain": [
       "<Figure size 432x288 with 1 Axes>"
      ]
     },
     "metadata": {
      "needs_background": "light"
     },
     "output_type": "display_data"
    },
    {
     "data": {
      "image/png": "[encoded data removed]",
      "text/plain": [
       "<Figure size 432x288 with 1 Axes>"
      ]
     },
     "metadata": {
      "needs_background": "light"
     },
     "output_type": "display_data"
    },
    {
     "data": {
      "image/png": "[encoded data removed]",
      "text/plain": [
       "<Figure size 432x288 with 1 Axes>"
      ]
     },
     "metadata": {
      "needs_background": "light"
     },
     "output_type": "display_data"
    },
    {
     "data": {
      "image/png": "[encoded data removed]",
      "text/plain": [
       "<Figure size 432x288 with 1 Axes>"
      ]
     },
     "metadata": {
      "needs_background": "light"
     },
     "output_type": "display_data"
    },
    {
     "data": {
      "image/png": "[encoded data removed]",
      "text/plain": [
       "<Figure size 432x288 with 1 Axes>"
      ]
     },
     "metadata": {
      "needs_background": "light"
     },
     "output_type": "display_data"
    },
    {
     "data": {
      "image/png": "[encoded data removed]",
      "text/plain": [
       "<Figure size 432x288 with 1 Axes>"
      ]
     },
     "metadata": {
      "needs_background": "light"
     },
     "output_type": "display_data"
    },
    {
     "data": {
      "image/png": "[encoded data removed]",
      "text/plain": [
       "<Figure size 432x288 with 1 Axes>"
      ]
     },
     "metadata": {
      "needs_background": "light"
     },
     "output_type": "display_data"
    },
    {
     "data": {
      "image/png": "[encoded data removed]",
      "text/plain": [
       "<Figure size 432x288 with 1 Axes>"
      ]
     },
     "metadata": {
      "needs_background": "light"
     },
     "output_type": "display_data"
    },
    {
     "data": {
      "image/png": "[encoded data removed]",
      "text/plain": [
       "<Figure size 432x288 with 1 Axes>"
      ]
     },
     "metadata": {
      "needs_background": "light"
     },
     "output_type": "display_data"
    },
    {
     "data": {
      "image/png": "[encoded data removed]",
      "text/plain": [
       "<Figure size 432x288 with 1 Axes>"
      ]
     },
     "metadata": {
      "needs_background": "light"
     },
     "output_type": "display_data"
    },
    {
     "data": {
      "image/png": "[encoded data removed]",
      "text/plain": [
       "<Figure size 432x288 with 1 Axes>"
      ]
     },
     "metadata": {
      "needs_background": "light"
     },
     "output_type": "display_data"
    },
    {
     "data": {
      "image/png": "[encoded data removed]",
      "text/plain": [
       "<Figure size 432x288 with 1 Axes>"
      ]
     },
     "metadata": {
      "needs_background": "light"
     },
     "output_type": "display_data"
    },
    {
     "data": {
      "image/png": "[encoded data removed]",
      "text/plain": [
       "<Figure size 432x288 with 1 Axes>"
      ]
     },
     "metadata": {
      "needs_background": "light"
     },
     "output_type": "display_data"
    },
    {
     "data": {
      "image/png": "[encoded data removed]",
      "text/plain": [
       "<Figure size 432x288 with 1 Axes>"
      ]
     },
     "metadata": {
      "needs_background": "light"
     },
     "output_type": "display_data"
    },
    {
     "data": {
      "image/png": "[encoded data removed]",
      "text/plain": [
       "<Figure size 432x288 with 1 Axes>"
      ]
     },
     "metadata": {
      "needs_background": "light"
     },
     "output_type": "display_data"
    },
    {
     "data": {
      "image/png": "[encoded data removed]",
      "text/plain": [
       "<Figure size 432x288 with 1 Axes>"
      ]
     },
     "metadata": {
      "needs_background": "light"
     },
     "output_type": "display_data"
    },
    {
     "data": {
      "image/png": "[encoded data removed]",
      "text/plain": [
       "<Figure size 432x288 with 1 Axes>"
      ]
     },
     "metadata": {
      "needs_background": "light"
     },
     "output_type": "display_data"
    }
   ],
   "source": [
    "#Columnas categoricas\n",
    "for x in columnsString:\n",
    "  plt.title(x)\n",
    "  bd_full.fillna(\"--NULL\").groupby(x)[x].count().plot(kind = \"bar\")\n",
    "  plt.show()"
   ]
  },
  {
   "cell_type": "code",
   "execution_count": 204,
   "metadata": {},
   "outputs": [],
   "source": [
    "#Retiramos las variables diag_1 diag_2 diag_3\n",
    "columnsNumeric.append(\"diag_1\")\n",
    "columnsNumeric.append(\"diag_2\")\n",
    "columnsNumeric.append(\"diag_3\")\n",
    "\n",
    "columnsString.remove(\"diag_1\")\n",
    "columnsString.remove(\"diag_2\")\n",
    "columnsString.remove(\"diag_3\")"
   ]
  },
  {
   "cell_type": "markdown",
   "metadata": {},
   "source": [
    "*Se observa que las variables diag_1, diag_2 y diag_3 son en su mayoria numéricas, revisamos el porcentaje de numéricas, no numericas y nulos.*"
   ]
  },
  {
   "cell_type": "code",
   "execution_count": 205,
   "metadata": {},
   "outputs": [],
   "source": [
    "def changeType(x):\n",
    "  try:\n",
    "    a = float(x)\n",
    "    if(np.isnan(a)):\n",
    "      return -1\n",
    "    else:\n",
    "      return 1\n",
    "  except:\n",
    "    return 0\n",
    "  \n",
    "def diagToNumber(x):\n",
    "  try:\n",
    "    a = float(x)\n",
    "    if(np.isnan(a)):\n",
    "      return float(\"nan\")\n",
    "    else:\n",
    "      return a\n",
    "  except:\n",
    "    return float(\"nan\")"
   ]
  },
  {
   "cell_type": "code",
   "execution_count": 206,
   "metadata": {},
   "outputs": [
    {
     "name": "stdout",
     "output_type": "stream",
     "text": [
      "diag_1\n",
      "Numeros: 98.36%\n",
      "String: 1.64%\n",
      "Nulos: 0.0%\n",
      "\n",
      "\n",
      "diag_2\n",
      "Numeros: 97.14%\n",
      "String: 2.86%\n",
      "Nulos: 0.0%\n",
      "\n",
      "\n",
      "diag_3\n",
      "Numeros: 93.64%\n",
      "String: 6.36%\n",
      "Nulos: 0.0%\n",
      "\n",
      "\n"
     ]
    }
   ],
   "source": [
    "for x in [\"diag_1\", \"diag_2\", \"diag_3\"]:\n",
    "  numNumeric = bd_full[bd_full[x].apply(changeType) == 1].shape[0]\n",
    "  numString = bd_full[bd_full[x].apply(changeType) == 0].shape[0]\n",
    "  numNull = bd_full[bd_full[x].apply(changeType) == -1].shape[0]\n",
    "  print(x)\n",
    "  print(\"Numeros: \" + str(np.round(numNumeric / bd_full.shape[0] * 100, 2)) + \"%\")\n",
    "  print(\"String: \" + str(np.round(numString / bd_full.shape[0] * 100, 2)) + \"%\")\n",
    "  print(\"Nulos: \" + str(np.round(numNull / bd_full.shape[0] * 100, 2)) + \"%\")\n",
    "  print(\"\\n\")"
   ]
  },
  {
   "cell_type": "markdown",
   "metadata": {},
   "source": [
    "*Todos los numéricos son mayores a 90%, tomamos estos para transformar a numéricas estas variables*"
   ]
  },
  {
   "cell_type": "code",
   "execution_count": 207,
   "metadata": {},
   "outputs": [],
   "source": [
    "for x in [\"diag_1\", \"diag_2\", \"diag_3\"]:\n",
    "  bd_full[x] = bd_full[x].apply(diagToNumber)\n",
    "  bd_full[x] = bd_full[x].apply(float)"
   ]
  },
  {
   "cell_type": "markdown",
   "metadata": {},
   "source": [
    "*Transformamos las variables categoricas para que puedan ser leidas*"
   ]
  },
  {
   "cell_type": "code",
   "execution_count": 215,
   "metadata": {},
   "outputs": [],
   "source": [
    "#Como el porcentaje de nan es menor al 1% eliminamos los casos perdidos para un mejor ajuste\n",
    "bd_full =  bd_full.dropna()"
   ]
  },
  {
   "cell_type": "code",
   "execution_count": 208,
   "metadata": {},
   "outputs": [],
   "source": [
    "#===================================================================\n",
    "from sklearn import preprocessing\n",
    "from sklearn.preprocessing import LabelEncoder"
   ]
  },
  {
   "cell_type": "code",
   "execution_count": 209,
   "metadata": {},
   "outputs": [],
   "source": [
    "le = preprocessing.LabelEncoder()"
   ]
  },
  {
   "cell_type": "code",
   "execution_count": 217,
   "metadata": {},
   "outputs": [],
   "source": [
    "for x in columnsString:\n",
    "    le.fit(bd_full[x])\n",
    "    le.transform(bd_full[x]) \n",
    "    bd_full[x + '_D'] = le.transform(bd_full[x])"
   ]
  },
  {
   "cell_type": "code",
   "execution_count": 218,
   "metadata": {
    "scrolled": true
   },
   "outputs": [],
   "source": [
    "columnsString_D = ['race_D', 'gender_D', 'age_D', 'max_glu_serum_D', 'a1c_result_D', 'metformin_D', 'repaglinide_D', 'nateglinide_D',\n",
    " 'chlorpropamide_D', 'glimepiride_D', 'acetohexamide_D', 'glipizide_D', 'glyburide_D', 'tolbutamide_D', 'pioglitazone_D', 'rosiglitazone_D',\n",
    " 'acarbose_D', 'miglitol_D', 'troglitazone_D', 'tolazamide_D', 'examide_D', 'citoglipton_D', 'insulin_D', 'glyburide_metformin_D',\n",
    " 'glipizide_metformin_D', 'glimepiride_pioglitazone_D', 'metformin_rosiglitazone_D', 'metformin_pioglitazone_D', 'change_D',\n",
    " 'diabetes_med_D', 'description_x_D', 'description_y_D', 'description_D']"
   ]
  },
  {
   "cell_type": "markdown",
   "metadata": {},
   "source": [
    "**4. REDUCCIÓN DE DIMENSIONES**"
   ]
  },
  {
   "cell_type": "code",
   "execution_count": 221,
   "metadata": {},
   "outputs": [
    {
     "data": {
      "text/plain": [
       "array([3.95123128e-01, 3.19004076e-01, 2.81346991e-01, 3.77231317e-03,\n",
       "       6.01561821e-04, 5.97501982e-05, 2.95071449e-05, 2.40275805e-05,\n",
       "       1.69589677e-05, 1.41898683e-05, 7.49673972e-06])"
      ]
     },
     "execution_count": 221,
     "metadata": {},
     "output_type": "execute_result"
    }
   ],
   "source": [
    "from sklearn.decomposition import PCA\n",
    "\n",
    "pca = PCA()\n",
    "pca.fit(bd_full[columnsNumeric])\n",
    "pca.explained_variance_ratio_"
   ]
  },
  {
   "cell_type": "code",
   "execution_count": 222,
   "metadata": {},
   "outputs": [
    {
     "name": "stdout",
     "output_type": "stream",
     "text": [
      "% Var. explicada (1 componentes):  39.51231276036021\n",
      "% Var. explicada (2 componentes):  71.41272037616143\n",
      "% Var. explicada (3 componentes):  99.54741945148189\n",
      "% Var. explicada (4 componentes):  99.9246507679937\n",
      "% Var. explicada (5 componentes):  99.98480695006947\n",
      "% Var. explicada (6 componentes):  99.99078196988869\n",
      "% Var. explicada (7 componentes):  99.99373268437736\n",
      "% Var. explicada (8 componentes):  99.99613544243\n",
      "% Var. explicada (9 componentes):  99.99783133920015\n",
      "% Var. explicada (10 componentes):  99.99925032602786\n",
      "% Var. explicada (11 componentes):  99.99999999999999\n"
     ]
    },
    {
     "data": {
      "image/png": "[encoded data removed]",
      "text/plain": [
       "<Figure size 432x288 with 1 Axes>"
      ]
     },
     "metadata": {
      "needs_background": "light"
     },
     "output_type": "display_data"
    }
   ],
   "source": [
    "for i in range(len(pca.components_)):\n",
    "    print('% Var. explicada ('+str(i+1)+' componentes): ', np.cumsum(pca.explained_variance_ratio_)[i]*100)\n",
    "    \n",
    "plt.bar(range(1,len(pca.components_)+1),pca.explained_variance_ratio_, alpha=.2,color='0')\n",
    "plt.plot(range(1,len(pca.components_)+1),np.cumsum(pca.explained_variance_ratio_),alpha=4)\n",
    "plt.title(\"Varianza explicada y pareto\")\n",
    "plt.show()"
   ]
  },
  {
   "cell_type": "code",
   "execution_count": 224,
   "metadata": {},
   "outputs": [],
   "source": [
    "bd_full[columnsNumeric].corr()"
   ]
  },
  {
   "cell_type": "markdown",
   "metadata": {},
   "source": [
    "**5. ANALISIS CLUSTER**"
   ]
  },
  {
   "cell_type": "code",
   "execution_count": 225,
   "metadata": {},
   "outputs": [],
   "source": [
    "from sklearn.cluster import KMeans\n",
    "from sklearn import metrics\n",
    "from sklearn.metrics import pairwise_distances_argmin_min "
   ]
  },
  {
   "cell_type": "code",
   "execution_count": 220,
   "metadata": {},
   "outputs": [],
   "source": [
    "#Variables a trabajar\n",
    "var_trabajar = columnsNumeric + columnsString_D\n",
    "var_trabajar"
   ]
  },
  {
   "cell_type": "code",
   "execution_count": 226,
   "metadata": {},
   "outputs": [
    {
     "data": {
      "image/png": "[encoded data removed]",
      "text/plain": [
       "<Figure size 432x288 with 1 Axes>"
      ]
     },
     "metadata": {
      "needs_background": "light"
     },
     "output_type": "display_data"
    }
   ],
   "source": [
    "x_train = np.array(bd_full[var_trabajar])\n",
    "\n",
    "Nc = range(1, 20)\n",
    "kmeans = [KMeans(n_clusters=i) for i in Nc]\n",
    "kmeans\n",
    "score = [kmeans[i].fit(x_train).score(x_train) for i in range(len(kmeans))]\n",
    "score\n",
    "plt.plot(Nc,score)\n",
    "plt.xlabel('Number of Clusters')\n",
    "plt.ylabel('Score')\n",
    "plt.title('Elbow Curve')\n",
    "plt.show()"
   ]
  },
  {
   "cell_type": "code",
   "execution_count": 162,
   "metadata": {},
   "outputs": [
    {
     "name": "stdout",
     "output_type": "stream",
     "text": [
      "2 clústeres:\n",
      "Inercia: 58362402.28478558\n",
      "Silueta: 0.2923282950070485\n",
      "Distancias: [146 553]\n",
      "\n",
      "\n",
      "3 clústeres:\n",
      "Inercia: 47639767.83638764\n",
      "Silueta: 0.30722904354708314\n",
      "Distancias: [759 308   7]\n",
      "\n",
      "\n",
      "4 clústeres:\n",
      "Inercia: 39653397.79412355\n",
      "Silueta: 0.3021237934207316\n",
      "Distancias: [223 308 369 189]\n",
      "\n",
      "\n",
      "5 clústeres:\n",
      "Inercia: 34999986.94892241\n",
      "Silueta: 0.3167906280058473\n",
      "Distancias: [492 759 191  93 369]\n",
      "\n",
      "\n",
      "6 clústeres:\n",
      "Inercia: 31315831.96178791\n",
      "Silueta: 0.23854870277701742\n",
      "Distancias: [203 759 796  93 492 793]\n",
      "\n",
      "\n",
      "7 clústeres:\n",
      "Inercia: 28296510.875281826\n",
      "Silueta: 0.33784301593916605\n",
      "Distancias: [352 669 627 132 296  93 798]\n",
      "\n",
      "\n",
      "8 clústeres:\n",
      "Inercia: 25601123.433514837\n",
      "Silueta: 0.3154102551788127\n",
      "Distancias: [492 689 521 627 614 624 645 206]\n",
      "\n",
      "\n",
      "9 clústeres:\n",
      "Inercia: 24107459.317962967\n",
      "Silueta: 0.31834089662234943\n",
      "Distancias: [813 758 212 369 743 130 731 669 786]\n",
      "\n",
      "\n",
      "10 clústeres:\n",
      "Inercia: 21680702.0512558\n",
      "Silueta: 0.29923227051049966\n",
      "Distancias: [731 516 123 314 786 178 212 296 645 153]\n",
      "\n",
      "\n",
      "11 clústeres:\n",
      "Inercia: 20314021.79023108\n",
      "Silueta: 0.3008326377600334\n",
      "Distancias: [758 645 590 793 492 153 430 121 178 731 522]\n",
      "\n",
      "\n",
      "12 clústeres:\n",
      "Inercia: 19459755.616235975\n",
      "Silueta: 0.32733627183483865\n",
      "Distancias: [352 759 130 731 641 669 177 786  73 125 526 296]\n",
      "\n",
      "\n",
      "13 clústeres:\n",
      "Inercia: 18003875.72624939\n",
      "Silueta: 0.3334387384015643\n",
      "Distancias: [786 352 656 731 153 669 296 536 575 460 267 645 528]\n",
      "\n",
      "\n",
      "14 clústeres:\n",
      "Inercia: 16956172.221206054\n",
      "Silueta: 0.22844353997173553\n",
      "Distancias: [ 19  10 669 296 267 656 786 476 645 153 303 731 770 352]\n",
      "\n",
      "\n",
      "15 clústeres:\n",
      "Inercia: 16124068.724703737\n",
      "Silueta: 0.343537522122205\n",
      "Distancias: [153 727 430 816 575 522 641 375  94 731  19 590 617 414 347]\n",
      "\n",
      "\n",
      "16 clústeres:\n",
      "Inercia: 15167909.732949724\n",
      "Silueta: 0.3041007235387115\n",
      "Distancias: [669 536 284 645 153 469 350 528 375 840 731 815 460 347 414 590]\n",
      "\n",
      "\n",
      "17 clústeres:\n",
      "Inercia: 14658951.915296808\n",
      "Silueta: 0.3090273124960494\n",
      "Distancias: [727  66 350 815 756 347  86 375  58  10 645 125 115 510  87 802  39]\n",
      "\n",
      "\n",
      "18 clústeres:\n",
      "Inercia: 13762510.258649684\n",
      "Silueta: 0.3304508989229374\n",
      "Distancias: [840 231 460 645 756 430 347  73  58 284 153 528 296 822 414 669  94 476]\n",
      "\n",
      "\n",
      "19 clústeres:\n",
      "Inercia: 13576765.666609269\n",
      "Silueta: 0.34878387498319685\n",
      "Distancias: [314 231 747  10  19 414 347 365  58 770 294 182 635 296 350  16 168 656\n",
      "  60]\n",
      "\n",
      "\n"
     ]
    }
   ],
   "source": [
    "#Evaluamos los indicadores para escoger el nro de cluster óptimos\n",
    "ctdDf = int(0.1*bd_full.shape[0])\n",
    "cluster = [kmeans[i].predict(x_train) for i in range(len(kmeans))]\n",
    "\n",
    "for i in range(1,19):    \n",
    "    print(str(i+1)+' clústeres:')\n",
    "    print('Inercia: '+str(kmeans[i].inertia_))\n",
    "    print('Silueta: '+str(metrics.silhouette_score(x_train, cluster[i], metric='euclidean',sample_size=ctdDf)))\n",
    "    print('Distancias: '+str(pairwise_distances_argmin_min(kmeans[i].cluster_centers_, x_train)[0]))\n",
    "    print(\"\\n\")"
   ]
  },
  {
   "cell_type": "code",
   "execution_count": 250,
   "metadata": {},
   "outputs": [
    {
     "data": {
      "text/plain": [
       "KMeans(algorithm='auto', copy_x=True, init='k-means++', max_iter=300,\n",
       "    n_clusters=3, n_init=10, n_jobs=None, precompute_distances='auto',\n",
       "    random_state=None, tol=0.0001, verbose=0)"
      ]
     },
     "execution_count": 250,
     "metadata": {},
     "output_type": "execute_result"
    }
   ],
   "source": [
    "#Escogemos el nro de cluster adeucdo\n",
    "kmeans = KMeans(n_clusters = 3)\n",
    "kmeans.fit(x_train)"
   ]
  },
  {
   "cell_type": "code",
   "execution_count": 170,
   "metadata": {},
   "outputs": [],
   "source": [
    "kmeans.cluster_centers_"
   ]
  },
  {
   "cell_type": "code",
   "execution_count": 251,
   "metadata": {},
   "outputs": [],
   "source": [
    "kmeans.predict(x_train)\n",
    "bd_full[\"cluster03\"] = kmeans.predict(x_train)"
   ]
  },
  {
   "cell_type": "code",
   "execution_count": 252,
   "metadata": {},
   "outputs": [
    {
     "data": {
      "text/plain": [
       "cluster03\n",
       "0    18098\n",
       "1    52100\n",
       "2    19583\n",
       "dtype: int64"
      ]
     },
     "execution_count": 252,
     "metadata": {},
     "output_type": "execute_result"
    }
   ],
   "source": [
    "bd_full.groupby('cluster03').size()"
   ]
  },
  {
   "cell_type": "code",
   "execution_count": 176,
   "metadata": {},
   "outputs": [
    {
     "data": {
      "text/plain": [
       "(896, 90)"
      ]
     },
     "execution_count": 176,
     "metadata": {},
     "output_type": "execute_result"
    }
   ],
   "source": [
    "bd_full.shape"
   ]
  },
  {
   "cell_type": "markdown",
   "metadata": {},
   "source": [
    "**6. Generamos nuestra base modeler**"
   ]
  },
  {
   "cell_type": "code",
   "execution_count": null,
   "metadata": {},
   "outputs": [],
   "source": [
    "columnsEvaluar = columnsNumeric + [\"cluster03\"] + columnsString_D + [\"target\"]\n",
    "bd_modeler = bd_full[columnsEvaluar]"
   ]
  },
  {
   "cell_type": "code",
   "execution_count": 268,
   "metadata": {},
   "outputs": [],
   "source": [
    "columnsEvaluar = columnsNumeric + [\"cluster03\"] + columnsString_D\n",
    "columnsFin = columnsNumeric + [\"cluster03\"] + columnsString_D + [\"target\"]\n",
    "bd_modeler = bd_full[columnsFin]"
   ]
  },
  {
   "cell_type": "markdown",
   "metadata": {},
   "source": [
    "**7. Particionado de datos: train y Test**"
   ]
  },
  {
   "cell_type": "code",
   "execution_count": 269,
   "metadata": {},
   "outputs": [],
   "source": [
    "from sklearn.model_selection import train_test_split\n",
    "X = bd_modeler[columnsEvaluar]\n",
    "y = bd_modeler[[\"target\"]]\n",
    "\n",
    "#X.head(10)\n",
    "#y.head(10)\n",
    "\n",
    "X_train, X_test, y_train, y_test = train_test_split(X, y, test_size = 0.2, random_state = 43)"
   ]
  },
  {
   "cell_type": "code",
   "execution_count": 270,
   "metadata": {},
   "outputs": [],
   "source": [
    "pdX_train = pd.DataFrame(X_train, columns = columnsEvaluar)\n",
    "pdy_train = pd.DataFrame(y_train, columns = [\"target\"])\n",
    "pdX_test = pd.DataFrame(X_test, columns = columnsEvaluar)\n",
    "pdy_test = pd.DataFrame(y_test, columns = [\"target\"])"
   ]
  },
  {
   "cell_type": "code",
   "execution_count": 271,
   "metadata": {},
   "outputs": [
    {
     "name": "stderr",
     "output_type": "stream",
     "text": [
      "C:\\Users\\Cesar Quezada\\Anaconda3\\lib\\site-packages\\sklearn\\linear_model\\logistic.py:433: FutureWarning: Default solver will be changed to 'lbfgs' in 0.22. Specify a solver to silence this warning.\n",
      "  FutureWarning)\n",
      "C:\\Users\\Cesar Quezada\\Anaconda3\\lib\\site-packages\\sklearn\\utils\\validation.py:761: DataConversionWarning: A column-vector y was passed when a 1d array was expected. Please change the shape of y to (n_samples, ), for example using ravel().\n",
      "  y = column_or_1d(y, warn=True)\n"
     ]
    }
   ],
   "source": [
    "#Regresión logistica\n",
    "#==============#============\n",
    "from sklearn.linear_model import LogisticRegression\n",
    "\n",
    "clasificador = LogisticRegression()\n",
    "clasificador.fit(pdX_train[columnsEvaluar], y_train)   \n",
    "\n",
    "prediction_train = clasificador.score(pdX_train[columnsEvaluar], y_train)\n",
    "prediction_test = clasificador.score(pdX_test[columnsEvaluar], y_test) "
   ]
  },
  {
   "cell_type": "code",
   "execution_count": 272,
   "metadata": {},
   "outputs": [
    {
     "name": "stdout",
     "output_type": "stream",
     "text": [
      "0.6186511472488305\n",
      "0.6146906498858384\n"
     ]
    }
   ],
   "source": [
    "print(prediction_train)\n",
    "print(prediction_test)"
   ]
  },
  {
   "cell_type": "code",
   "execution_count": 273,
   "metadata": {},
   "outputs": [],
   "source": [
    "#Arboles de Decisiones:    \n",
    "#==============#============\n",
    "from sklearn.tree import DecisionTreeClassifier\n",
    "\n",
    "clasificador2 = DecisionTreeClassifier(max_depth = 40)\n",
    "clasificador2.fit(pdX_train[columnsEvaluar], y_train)\n",
    "\n",
    "prediction2_train = clasificador2.score(pdX_train[columnsEvaluar], y_train)\n",
    "prediction2_test = clasificador2.score(pdX_test[columnsEvaluar], y_test)"
   ]
  },
  {
   "cell_type": "code",
   "execution_count": 274,
   "metadata": {},
   "outputs": [
    {
     "name": "stdout",
     "output_type": "stream",
     "text": [
      "0.9992899309423035\n",
      "0.5536559558946372\n"
     ]
    }
   ],
   "source": [
    "print(prediction2_train)\n",
    "print(prediction2_test)"
   ]
  },
  {
   "cell_type": "code",
   "execution_count": 275,
   "metadata": {},
   "outputs": [
    {
     "name": "stderr",
     "output_type": "stream",
     "text": [
      "C:\\Users\\Cesar Quezada\\Anaconda3\\lib\\site-packages\\sklearn\\utils\\validation.py:761: DataConversionWarning: A column-vector y was passed when a 1d array was expected. Please change the shape of y to (n_samples, ), for example using ravel().\n",
      "  y = column_or_1d(y, warn=True)\n"
     ]
    }
   ],
   "source": [
    "#Modelo GBoosting:\n",
    "#=====#============\n",
    "from sklearn.ensemble import RandomForestClassifier, GradientBoostingClassifier\n",
    "\n",
    "clasificador3 = GradientBoostingClassifier(n_estimators=200, max_depth = 4, learning_rate = .4)\n",
    "clasificador3.fit(pdX_train[columnsEvaluar], pdy_train)\n",
    "\n",
    "prediction3_train = clasificador3.score(pdX_train[columnsEvaluar], pdy_train)\n",
    "prediction3_test = clasificador3.score(pdX_test[columnsEvaluar], pdy_test)"
   ]
  },
  {
   "cell_type": "code",
   "execution_count": 276,
   "metadata": {},
   "outputs": [
    {
     "name": "stdout",
     "output_type": "stream",
     "text": [
      "0.7018266874582312\n",
      "0.6411984184440608\n"
     ]
    }
   ],
   "source": [
    "print(prediction3_train)\n",
    "print(prediction3_test)"
   ]
  },
  {
   "cell_type": "code",
   "execution_count": null,
   "metadata": {},
   "outputs": [],
   "source": []
  },
  {
   "cell_type": "code",
   "execution_count": null,
   "metadata": {},
   "outputs": [],
   "source": []
  }
 ],
 "metadata": {
  "kernelspec": {
   "display_name": "Python 3",
   "language": "python",
   "name": "python3"
  },
  "language_info": {
   "codemirror_mode": {
    "name": "ipython",
    "version": 3
   },
   "file_extension": ".py",
   "mimetype": "text/x-python",
   "name": "python",
   "nbconvert_exporter": "python",
   "pygments_lexer": "ipython3",
   "version": "3.7.3"
  }
 },
 "nbformat": 4,
 "nbformat_minor": 2
}
